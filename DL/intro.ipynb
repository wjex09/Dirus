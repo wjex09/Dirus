{
 "cells": [
  {
   "cell_type": "code",
   "execution_count": 2,
   "metadata": {},
   "outputs": [],
   "source": [
    "import math\n",
    "import numpy as np\n",
    "import tqdm \n",
    "import torch\n",
    "import matplotlib.pyplot as plt\n",
    "%matplotlib inline\n",
    " "
   ]
  },
  {
   "cell_type": "code",
   "execution_count": 90,
   "metadata": {},
   "outputs": [],
   "source": [
    "class Value : \n",
    "    def __init__(self,data,_children =(),_op='',label=''):\n",
    "        self.data = data   \n",
    "        self.grad = 0.0 \n",
    "        self._backward = lambda : None # empty funtion if it makes sense saying it this way\n",
    "        self._prev = set(_children)  \n",
    "        self._op = _op \n",
    "        self.label = label \n",
    "\n",
    "    def __repr__(self): \n",
    "        return f\"Value(data={self.data})\"   \n",
    "\n",
    "    def __add__(self,next):   \n",
    "        next = next if isinstance(next, Value) else Value(next) \n",
    "        ret = Value(self.data+next.data,(self,next),'+')  \n",
    "        # adding constant\n",
    "\n",
    "        ''' \n",
    "            f = a + b \n",
    "            df/da  = 1  , df/db = 1 \n",
    "        '''\n",
    "        def _backward():   \n",
    "            self.grad += 1.0*ret.grad # chain rule we keep changes instead of setting/assigning \n",
    "            next.grad += 1.0*ret.grad \n",
    "        \n",
    "        ret._backward = _backward \n",
    "        #print(ret)\n",
    "        return ret   \n",
    "    \n",
    "    def __mul__(self,next):  \n",
    "        next = next if isinstance(next,Value) else Value(next)\n",
    "        \n",
    "        ''' \n",
    "            f = a * b \n",
    "            df/da  = b  , df/db = a \n",
    "        '''\n",
    "       \n",
    "        ret = Value(self.data*next.data,(self,next),'*')  \n",
    "       \n",
    "        def _backward() : \n",
    "            self.grad += next.data * ret.grad\n",
    "            next.grad += self.data * ret.grad \n",
    "            print()\n",
    "        \n",
    "        ret._backward = _backward\n",
    "        return ret \n",
    "\n",
    "    def __neg__(self) : \n",
    "        return self*-1\n",
    "    \n",
    "    def __sub__(self,next) : \n",
    "        return self + (-next)\n",
    "\n",
    "    def __rmul__(self,next) :    \n",
    "        return self*next  \n",
    "\n",
    "    def __radd__(self,next) :\n",
    "        return self+next \n",
    "\n",
    "    def tanh(self):  \n",
    "\n",
    "        ''' \n",
    "            f = tanh(x) \n",
    "            df/dx = 1 - tanh(x)*tanh(x)\n",
    "\n",
    "        '''\n",
    "        x = self.data\n",
    "        ret = (math.exp(2*x) - 1) / (math.exp(2*x) + 1) \n",
    "        out = Value(ret,(self,),'tanh')  \n",
    "        def _backward(): \n",
    "            self.grad += (1 - ret**2)*out.grad \n",
    "        \n",
    "        out._backward = _backward\n",
    "        return out \n",
    "\n",
    "    def __pow__(self,next) : \n",
    "        assert (isinstance(next,(int,float))) # only ints and floats  \n",
    "        x = self.data\n",
    "        out = Value(x**next,(self,),f'**{next}') \n",
    "        def _backward() :\n",
    "            self.grad += out.grad *next* (self.data**(next-1)) \n",
    "        out._backward = _backward\n",
    "\n",
    "        return out\n",
    "    \n",
    "    def __truediv__(self,next):\n",
    "        return self*(next**-1)\n",
    "    \n",
    "    def exp(self) : \n",
    "        x = self.data\n",
    "        out = Value(math.exp(x),(self,), 'exp')  \n",
    "        def _backward() : \n",
    "            self.grad += out.data*out.grad \n",
    "        out._backward = _backward \n",
    "        return out\n",
    "\n",
    "\n",
    "    def backward(self):    \n",
    "        ord = []\n",
    "        vis = set() \n",
    "        # do a topological sort\n",
    "        def dfs(v): \n",
    "            if v not in vis:   \n",
    "                vis.add(v)\n",
    "                for u in v._prev :  \n",
    "                    dfs(u)\n",
    "                ord.append(v) \n",
    "        \n",
    "        dfs(self)  \n",
    "        print(ord)\n",
    "        self.grad = 1.0 \n",
    "        #print(ord)\n",
    "\n",
    "        #  call backward for each node in topological order \n",
    "        for i in reversed(ord) : \n",
    "            i._backward()\n",
    "\n",
    "\n"
   ]
  },
  {
   "cell_type": "code",
   "execution_count": 79,
   "metadata": {},
   "outputs": [],
   "source": [
    "from graphviz import Digraph\n",
    "\n",
    "def trace(root):\n",
    "  # builds a set of all nodes and edges in a graph\n",
    "  nodes, edges = set(), set()\n",
    "  def build(v):\n",
    "    if v not in nodes:\n",
    "      nodes.add(v)\n",
    "      for child in v._prev:\n",
    "        edges.add((child, v))\n",
    "        build(child)\n",
    "  build(root)\n",
    "  return nodes, edges\n",
    "\n",
    "def draw_dot(root):\n",
    "  dot = Digraph(format='svg', graph_attr={'rankdir': 'LR'}) # LR = left to right\n",
    "  \n",
    "  nodes, edges = trace(root)\n",
    "  for n in nodes:\n",
    "    uid = str(id(n))\n",
    "    # for any value in the graph, create a rectangular ('record') node for it\n",
    "    dot.node(name = uid, label = \"{ %s | data %.4f | grad %.4f }\" % (n.label, n.data, n.grad), shape='record')\n",
    "    if n._op:\n",
    "      # if this value is a result of some operation, create an op node for it\n",
    "      dot.node(name = uid + n._op, label = n._op)\n",
    "      # and connect this node to it\n",
    "      dot.edge(uid + n._op, uid)\n",
    "\n",
    "  for n1, n2 in edges:\n",
    "    # connect n1 to the op node of n2\n",
    "    dot.edge(str(id(n1)), str(id(n2)) + n2._op)\n",
    "\n",
    "  return dot"
   ]
  },
  {
   "cell_type": "code",
   "execution_count": 88,
   "metadata": {},
   "outputs": [
    {
     "name": "stdout",
     "output_type": "stream",
     "text": [
      "[Value(data=6.881373587019543), Value(data=-3.0), Value(data=2.0), Value(data=-6.0), Value(data=1.0), Value(data=0.0), Value(data=0.0), Value(data=-6.0), Value(data=0.8813735870195432), Value(data=0.7071067811865476)]\n",
      "\n",
      "\n"
     ]
    },
    {
     "data": {
      "image/svg+xml": "<?xml version=\"1.0\" encoding=\"UTF-8\" standalone=\"no\"?>\n<!DOCTYPE svg PUBLIC \"-//W3C//DTD SVG 1.1//EN\"\n \"http://www.w3.org/Graphics/SVG/1.1/DTD/svg11.dtd\">\n<!-- Generated by graphviz version 2.43.0 (0)\n -->\n<!-- Title: %3 Pages: 1 -->\n<svg width=\"1804pt\" height=\"210pt\"\n viewBox=\"0.00 0.00 1803.69 210.00\" xmlns=\"http://www.w3.org/2000/svg\" xmlns:xlink=\"http://www.w3.org/1999/xlink\">\n<g id=\"graph0\" class=\"graph\" transform=\"scale(1 1) rotate(0) translate(4 206)\">\n<title>%3</title>\n<polygon fill=\"white\" stroke=\"transparent\" points=\"-4,4 -4,-206 1799.69,-206 1799.69,4 -4,4\"/>\n<!-- 140504988283952 -->\n<g id=\"node1\" class=\"node\">\n<title>140504988283952</title>\n<polygon fill=\"none\" stroke=\"black\" points=\"2.5,-165.5 2.5,-201.5 246.5,-201.5 246.5,-165.5 2.5,-165.5\"/>\n<text text-anchor=\"middle\" x=\"19.5\" y=\"-179.8\" font-family=\"Times,serif\" font-size=\"14.00\">x1</text>\n<polyline fill=\"none\" stroke=\"black\" points=\"36.5,-165.5 36.5,-201.5 \"/>\n<text text-anchor=\"middle\" x=\"87.5\" y=\"-179.8\" font-family=\"Times,serif\" font-size=\"14.00\">data 2.0000</text>\n<polyline fill=\"none\" stroke=\"black\" points=\"138.5,-165.5 138.5,-201.5 \"/>\n<text text-anchor=\"middle\" x=\"192.5\" y=\"-179.8\" font-family=\"Times,serif\" font-size=\"14.00\">grad &#45;1.5000</text>\n</g>\n<!-- 140504988282944* -->\n<g id=\"node3\" class=\"node\">\n<title>140504988282944*</title>\n<ellipse fill=\"none\" stroke=\"black\" cx=\"312\" cy=\"-128.5\" rx=\"27\" ry=\"18\"/>\n<text text-anchor=\"middle\" x=\"312\" y=\"-124.8\" font-family=\"Times,serif\" font-size=\"14.00\">*</text>\n</g>\n<!-- 140504988283952&#45;&gt;140504988282944* -->\n<g id=\"edge6\" class=\"edge\">\n<title>140504988283952&#45;&gt;140504988282944*</title>\n<path fill=\"none\" stroke=\"black\" d=\"M218.13,-165.46C228.63,-162.77 239.1,-159.78 249,-156.5 259.71,-152.96 271.05,-148.16 281.07,-143.54\"/>\n<polygon fill=\"black\" stroke=\"black\" points=\"282.67,-146.66 290.2,-139.21 279.67,-140.33 282.67,-146.66\"/>\n</g>\n<!-- 140504988282944 -->\n<g id=\"node2\" class=\"node\">\n<title>140504988282944</title>\n<polygon fill=\"none\" stroke=\"black\" points=\"375,-110.5 375,-146.5 641,-146.5 641,-110.5 375,-110.5\"/>\n<text text-anchor=\"middle\" x=\"402.5\" y=\"-124.8\" font-family=\"Times,serif\" font-size=\"14.00\">x1w1</text>\n<polyline fill=\"none\" stroke=\"black\" points=\"430,-110.5 430,-146.5 \"/>\n<text text-anchor=\"middle\" x=\"483.5\" y=\"-124.8\" font-family=\"Times,serif\" font-size=\"14.00\">data &#45;6.0000</text>\n<polyline fill=\"none\" stroke=\"black\" points=\"537,-110.5 537,-146.5 \"/>\n<text text-anchor=\"middle\" x=\"589\" y=\"-124.8\" font-family=\"Times,serif\" font-size=\"14.00\">grad 0.5000</text>\n</g>\n<!-- 140504988284624+ -->\n<g id=\"node13\" class=\"node\">\n<title>140504988284624+</title>\n<ellipse fill=\"none\" stroke=\"black\" cx=\"704\" cy=\"-100.5\" rx=\"27\" ry=\"18\"/>\n<text text-anchor=\"middle\" x=\"704\" y=\"-96.8\" font-family=\"Times,serif\" font-size=\"14.00\">+</text>\n</g>\n<!-- 140504988282944&#45;&gt;140504988284624+ -->\n<g id=\"edge13\" class=\"edge\">\n<title>140504988282944&#45;&gt;140504988284624+</title>\n<path fill=\"none\" stroke=\"black\" d=\"M633.78,-110.49C645.77,-108.76 657.15,-107.12 667.08,-105.68\"/>\n<polygon fill=\"black\" stroke=\"black\" points=\"667.86,-109.11 677.25,-104.22 666.86,-102.18 667.86,-109.11\"/>\n</g>\n<!-- 140504988282944*&#45;&gt;140504988282944 -->\n<g id=\"edge1\" class=\"edge\">\n<title>140504988282944*&#45;&gt;140504988282944</title>\n<path fill=\"none\" stroke=\"black\" d=\"M339.16,-128.5C346.61,-128.5 355.28,-128.5 364.68,-128.5\"/>\n<polygon fill=\"black\" stroke=\"black\" points=\"364.73,-132 374.73,-128.5 364.73,-125 364.73,-132\"/>\n</g>\n<!-- 140504988283472 -->\n<g id=\"node4\" class=\"node\">\n<title>140504988283472</title>\n<polygon fill=\"none\" stroke=\"black\" points=\"377.5,-55.5 377.5,-91.5 638.5,-91.5 638.5,-55.5 377.5,-55.5\"/>\n<text text-anchor=\"middle\" x=\"405\" y=\"-69.8\" font-family=\"Times,serif\" font-size=\"14.00\">x2w2</text>\n<polyline fill=\"none\" stroke=\"black\" points=\"432.5,-55.5 432.5,-91.5 \"/>\n<text text-anchor=\"middle\" x=\"483.5\" y=\"-69.8\" font-family=\"Times,serif\" font-size=\"14.00\">data 0.0000</text>\n<polyline fill=\"none\" stroke=\"black\" points=\"534.5,-55.5 534.5,-91.5 \"/>\n<text text-anchor=\"middle\" x=\"586.5\" y=\"-69.8\" font-family=\"Times,serif\" font-size=\"14.00\">grad 0.5000</text>\n</g>\n<!-- 140504988283472&#45;&gt;140504988284624+ -->\n<g id=\"edge14\" class=\"edge\">\n<title>140504988283472&#45;&gt;140504988284624+</title>\n<path fill=\"none\" stroke=\"black\" d=\"M638.4,-91.51C648.78,-92.95 658.6,-94.32 667.3,-95.53\"/>\n<polygon fill=\"black\" stroke=\"black\" points=\"666.94,-99.01 677.32,-96.93 667.9,-92.08 666.94,-99.01\"/>\n</g>\n<!-- 140504988283472* -->\n<g id=\"node5\" class=\"node\">\n<title>140504988283472*</title>\n<ellipse fill=\"none\" stroke=\"black\" cx=\"312\" cy=\"-73.5\" rx=\"27\" ry=\"18\"/>\n<text text-anchor=\"middle\" x=\"312\" y=\"-69.8\" font-family=\"Times,serif\" font-size=\"14.00\">*</text>\n</g>\n<!-- 140504988283472*&#45;&gt;140504988283472 -->\n<g id=\"edge2\" class=\"edge\">\n<title>140504988283472*&#45;&gt;140504988283472</title>\n<path fill=\"none\" stroke=\"black\" d=\"M339.16,-73.5C347.24,-73.5 356.75,-73.5 367.07,-73.5\"/>\n<polygon fill=\"black\" stroke=\"black\" points=\"367.2,-77 377.2,-73.5 367.2,-70 367.2,-77\"/>\n</g>\n<!-- 140504988284528 -->\n<g id=\"node6\" class=\"node\">\n<title>140504988284528</title>\n<polygon fill=\"none\" stroke=\"black\" points=\"4.5,-55.5 4.5,-91.5 244.5,-91.5 244.5,-55.5 4.5,-55.5\"/>\n<text text-anchor=\"middle\" x=\"21.5\" y=\"-69.8\" font-family=\"Times,serif\" font-size=\"14.00\">x2</text>\n<polyline fill=\"none\" stroke=\"black\" points=\"38.5,-55.5 38.5,-91.5 \"/>\n<text text-anchor=\"middle\" x=\"89.5\" y=\"-69.8\" font-family=\"Times,serif\" font-size=\"14.00\">data 0.0000</text>\n<polyline fill=\"none\" stroke=\"black\" points=\"140.5,-55.5 140.5,-91.5 \"/>\n<text text-anchor=\"middle\" x=\"192.5\" y=\"-69.8\" font-family=\"Times,serif\" font-size=\"14.00\">grad 0.5000</text>\n</g>\n<!-- 140504988284528&#45;&gt;140504988283472* -->\n<g id=\"edge7\" class=\"edge\">\n<title>140504988284528&#45;&gt;140504988283472*</title>\n<path fill=\"none\" stroke=\"black\" d=\"M244.55,-73.5C255.31,-73.5 265.54,-73.5 274.62,-73.5\"/>\n<polygon fill=\"black\" stroke=\"black\" points=\"274.7,-77 284.7,-73.5 274.7,-70 274.7,-77\"/>\n</g>\n<!-- 140504988284048 -->\n<g id=\"node7\" class=\"node\">\n<title>140504988284048</title>\n<polygon fill=\"none\" stroke=\"black\" points=\"0,-110.5 0,-146.5 249,-146.5 249,-110.5 0,-110.5\"/>\n<text text-anchor=\"middle\" x=\"19\" y=\"-124.8\" font-family=\"Times,serif\" font-size=\"14.00\">w1</text>\n<polyline fill=\"none\" stroke=\"black\" points=\"38,-110.5 38,-146.5 \"/>\n<text text-anchor=\"middle\" x=\"91.5\" y=\"-124.8\" font-family=\"Times,serif\" font-size=\"14.00\">data &#45;3.0000</text>\n<polyline fill=\"none\" stroke=\"black\" points=\"145,-110.5 145,-146.5 \"/>\n<text text-anchor=\"middle\" x=\"197\" y=\"-124.8\" font-family=\"Times,serif\" font-size=\"14.00\">grad 1.0000</text>\n</g>\n<!-- 140504988284048&#45;&gt;140504988282944* -->\n<g id=\"edge11\" class=\"edge\">\n<title>140504988284048&#45;&gt;140504988282944*</title>\n<path fill=\"none\" stroke=\"black\" d=\"M249.23,-128.5C258.37,-128.5 267.05,-128.5 274.87,-128.5\"/>\n<polygon fill=\"black\" stroke=\"black\" points=\"274.95,-132 284.95,-128.5 274.95,-125 274.95,-132\"/>\n</g>\n<!-- 140504988283040 -->\n<g id=\"node8\" class=\"node\">\n<title>140504988283040</title>\n<polygon fill=\"none\" stroke=\"black\" points=\"1564.69,-54.5 1564.69,-90.5 1795.69,-90.5 1795.69,-54.5 1564.69,-54.5\"/>\n<text text-anchor=\"middle\" x=\"1577.19\" y=\"-68.8\" font-family=\"Times,serif\" font-size=\"14.00\">o</text>\n<polyline fill=\"none\" stroke=\"black\" points=\"1589.69,-54.5 1589.69,-90.5 \"/>\n<text text-anchor=\"middle\" x=\"1640.69\" y=\"-68.8\" font-family=\"Times,serif\" font-size=\"14.00\">data 0.7071</text>\n<polyline fill=\"none\" stroke=\"black\" points=\"1691.69,-54.5 1691.69,-90.5 \"/>\n<text text-anchor=\"middle\" x=\"1743.69\" y=\"-68.8\" font-family=\"Times,serif\" font-size=\"14.00\">grad 1.0000</text>\n</g>\n<!-- 140504988283040tanh -->\n<g id=\"node9\" class=\"node\">\n<title>140504988283040tanh</title>\n<ellipse fill=\"none\" stroke=\"black\" cx=\"1496.85\" cy=\"-72.5\" rx=\"31.7\" ry=\"18\"/>\n<text text-anchor=\"middle\" x=\"1496.85\" y=\"-68.8\" font-family=\"Times,serif\" font-size=\"14.00\">tanh</text>\n</g>\n<!-- 140504988283040tanh&#45;&gt;140504988283040 -->\n<g id=\"edge3\" class=\"edge\">\n<title>140504988283040tanh&#45;&gt;140504988283040</title>\n<path fill=\"none\" stroke=\"black\" d=\"M1529.02,-72.5C1536.61,-72.5 1545.19,-72.5 1554.31,-72.5\"/>\n<polygon fill=\"black\" stroke=\"black\" points=\"1554.4,-76 1564.4,-72.5 1554.4,-69 1554.4,-76\"/>\n</g>\n<!-- 140504988283568 -->\n<g id=\"node10\" class=\"node\">\n<title>140504988283568</title>\n<polygon fill=\"none\" stroke=\"black\" points=\"1197,-54.5 1197,-90.5 1429,-90.5 1429,-54.5 1197,-54.5\"/>\n<text text-anchor=\"middle\" x=\"1210\" y=\"-68.8\" font-family=\"Times,serif\" font-size=\"14.00\">n</text>\n<polyline fill=\"none\" stroke=\"black\" points=\"1223,-54.5 1223,-90.5 \"/>\n<text text-anchor=\"middle\" x=\"1274\" y=\"-68.8\" font-family=\"Times,serif\" font-size=\"14.00\">data 0.8814</text>\n<polyline fill=\"none\" stroke=\"black\" points=\"1325,-54.5 1325,-90.5 \"/>\n<text text-anchor=\"middle\" x=\"1377\" y=\"-68.8\" font-family=\"Times,serif\" font-size=\"14.00\">grad 0.5000</text>\n</g>\n<!-- 140504988283568&#45;&gt;140504988283040tanh -->\n<g id=\"edge12\" class=\"edge\">\n<title>140504988283568&#45;&gt;140504988283040tanh</title>\n<path fill=\"none\" stroke=\"black\" d=\"M1429.17,-72.5C1438.08,-72.5 1446.66,-72.5 1454.53,-72.5\"/>\n<polygon fill=\"black\" stroke=\"black\" points=\"1454.78,-76 1464.78,-72.5 1454.78,-69 1454.78,-76\"/>\n</g>\n<!-- 140504988283568+ -->\n<g id=\"node11\" class=\"node\">\n<title>140504988283568+</title>\n<ellipse fill=\"none\" stroke=\"black\" cx=\"1134\" cy=\"-72.5\" rx=\"27\" ry=\"18\"/>\n<text text-anchor=\"middle\" x=\"1134\" y=\"-68.8\" font-family=\"Times,serif\" font-size=\"14.00\">+</text>\n</g>\n<!-- 140504988283568+&#45;&gt;140504988283568 -->\n<g id=\"edge4\" class=\"edge\">\n<title>140504988283568+&#45;&gt;140504988283568</title>\n<path fill=\"none\" stroke=\"black\" d=\"M1161.12,-72.5C1168.53,-72.5 1177.14,-72.5 1186.4,-72.5\"/>\n<polygon fill=\"black\" stroke=\"black\" points=\"1186.69,-76 1196.69,-72.5 1186.69,-69 1186.69,-76\"/>\n</g>\n<!-- 140504988284624 -->\n<g id=\"node12\" class=\"node\">\n<title>140504988284624</title>\n<polygon fill=\"none\" stroke=\"black\" points=\"767,-82.5 767,-118.5 1071,-118.5 1071,-82.5 767,-82.5\"/>\n<text text-anchor=\"middle\" x=\"813.5\" y=\"-96.8\" font-family=\"Times,serif\" font-size=\"14.00\">x1w1x2w2</text>\n<polyline fill=\"none\" stroke=\"black\" points=\"860,-82.5 860,-118.5 \"/>\n<text text-anchor=\"middle\" x=\"913.5\" y=\"-96.8\" font-family=\"Times,serif\" font-size=\"14.00\">data &#45;6.0000</text>\n<polyline fill=\"none\" stroke=\"black\" points=\"967,-82.5 967,-118.5 \"/>\n<text text-anchor=\"middle\" x=\"1019\" y=\"-96.8\" font-family=\"Times,serif\" font-size=\"14.00\">grad 0.5000</text>\n</g>\n<!-- 140504988284624&#45;&gt;140504988283568+ -->\n<g id=\"edge8\" class=\"edge\">\n<title>140504988284624&#45;&gt;140504988283568+</title>\n<path fill=\"none\" stroke=\"black\" d=\"M1057,-82.49C1071.6,-80.57 1085.35,-78.76 1097.05,-77.23\"/>\n<polygon fill=\"black\" stroke=\"black\" points=\"1097.71,-80.67 1107.17,-75.9 1096.8,-73.73 1097.71,-80.67\"/>\n</g>\n<!-- 140504988284624+&#45;&gt;140504988284624 -->\n<g id=\"edge5\" class=\"edge\">\n<title>140504988284624+&#45;&gt;140504988284624</title>\n<path fill=\"none\" stroke=\"black\" d=\"M731.12,-100.5C738.54,-100.5 747.2,-100.5 756.66,-100.5\"/>\n<polygon fill=\"black\" stroke=\"black\" points=\"756.79,-104 766.79,-100.5 756.79,-97 756.79,-104\"/>\n</g>\n<!-- 140504988284816 -->\n<g id=\"node14\" class=\"node\">\n<title>140504988284816</title>\n<polygon fill=\"none\" stroke=\"black\" points=\"803,-27.5 803,-63.5 1035,-63.5 1035,-27.5 803,-27.5\"/>\n<text text-anchor=\"middle\" x=\"816\" y=\"-41.8\" font-family=\"Times,serif\" font-size=\"14.00\">b</text>\n<polyline fill=\"none\" stroke=\"black\" points=\"829,-27.5 829,-63.5 \"/>\n<text text-anchor=\"middle\" x=\"880\" y=\"-41.8\" font-family=\"Times,serif\" font-size=\"14.00\">data 6.8814</text>\n<polyline fill=\"none\" stroke=\"black\" points=\"931,-27.5 931,-63.5 \"/>\n<text text-anchor=\"middle\" x=\"983\" y=\"-41.8\" font-family=\"Times,serif\" font-size=\"14.00\">grad 0.5000</text>\n</g>\n<!-- 140504988284816&#45;&gt;140504988283568+ -->\n<g id=\"edge9\" class=\"edge\">\n<title>140504988284816&#45;&gt;140504988283568+</title>\n<path fill=\"none\" stroke=\"black\" d=\"M1035.23,-60.11C1057.63,-62.95 1079.52,-65.72 1096.88,-67.92\"/>\n<polygon fill=\"black\" stroke=\"black\" points=\"1096.71,-71.43 1107.08,-69.21 1097.59,-64.48 1096.71,-71.43\"/>\n</g>\n<!-- 140504988285920 -->\n<g id=\"node15\" class=\"node\">\n<title>140504988285920</title>\n<polygon fill=\"none\" stroke=\"black\" points=\"2.5,-0.5 2.5,-36.5 246.5,-36.5 246.5,-0.5 2.5,-0.5\"/>\n<text text-anchor=\"middle\" x=\"21.5\" y=\"-14.8\" font-family=\"Times,serif\" font-size=\"14.00\">w2</text>\n<polyline fill=\"none\" stroke=\"black\" points=\"40.5,-0.5 40.5,-36.5 \"/>\n<text text-anchor=\"middle\" x=\"91.5\" y=\"-14.8\" font-family=\"Times,serif\" font-size=\"14.00\">data 1.0000</text>\n<polyline fill=\"none\" stroke=\"black\" points=\"142.5,-0.5 142.5,-36.5 \"/>\n<text text-anchor=\"middle\" x=\"194.5\" y=\"-14.8\" font-family=\"Times,serif\" font-size=\"14.00\">grad 0.0000</text>\n</g>\n<!-- 140504988285920&#45;&gt;140504988283472* -->\n<g id=\"edge10\" class=\"edge\">\n<title>140504988285920&#45;&gt;140504988283472*</title>\n<path fill=\"none\" stroke=\"black\" d=\"M214.42,-36.55C226.15,-39.54 237.93,-42.87 249,-46.5 259.46,-49.93 270.57,-54.47 280.46,-58.84\"/>\n<polygon fill=\"black\" stroke=\"black\" points=\"279.31,-62.17 289.87,-63.12 282.21,-55.79 279.31,-62.17\"/>\n</g>\n</g>\n</svg>\n",
      "text/plain": [
       "<graphviz.graphs.Digraph at 0x7fc9ddea7520>"
      ]
     },
     "execution_count": 88,
     "metadata": {},
     "output_type": "execute_result"
    }
   ],
   "source": [
    "x1 = Value(2.0,label = 'x1') \n",
    "w1 = Value(-3.0,label = 'w1')\n",
    "x2 = Value(0.0,label = 'x2')   \n",
    "w2 = Value(1.0,label = 'w2')\n",
    "\n",
    "x1w1 = x1*w1  \n",
    "x1w1.label = 'x1w1' \n",
    "\n",
    "b = Value(6.8813735870195432,label = 'b')  #yoinked\n",
    "\n",
    "x2w2 = x2*w2 \n",
    "x2w2.label = 'x2w2'\n",
    "\n",
    "x1w1x2w2 = x1w1  + x2w2  \n",
    "x1w1x2w2.label = 'x1w1x2w2 '\n",
    "n = x1w1x2w2 + b  \n",
    "n.label = 'n' \n",
    "\n",
    "o = n.tanh()\n",
    "\n",
    "\n",
    "#e = (2*n).exp() \n",
    "#o = (e-1)/(e+1)\n",
    "o.label = 'o'    \n",
    "o.backward()\n",
    "draw_dot(o) "
   ]
  },
  {
   "cell_type": "code",
   "execution_count": 7,
   "metadata": {},
   "outputs": [
    {
     "data": {
      "image/png": "[encoded data removed]",
      "text/plain": [
       "<Figure size 432x288 with 1 Axes>"
      ]
     },
     "metadata": {
      "needs_background": "light"
     },
     "output_type": "display_data"
    }
   ],
   "source": [
    "plt.plot(np.arange(-5,5,0.2), np.tanh(np.arange(-5,5,0.2)))\n",
    "plt.grid()\n",
    "\n"
   ]
  },
  {
   "cell_type": "code",
   "execution_count": 91,
   "metadata": {},
   "outputs": [
    {
     "name": "stdout",
     "output_type": "stream",
     "text": [
      "[Value(data=1), Value(data=6.881373587019543), Value(data=-3.0), Value(data=2.0), Value(data=-6.0), Value(data=0.0), Value(data=1.0), Value(data=0.0), Value(data=-6.0), Value(data=0.8813735870195432), Value(data=2), Value(data=1.7627471740390863), Value(data=5.828427124746192), Value(data=6.828427124746192), Value(data=0.1464466094067262), Value(data=-1), Value(data=4.828427124746192), Value(data=0.7071067811865477)]\n",
      "\n",
      "\n",
      "\n",
      "\n"
     ]
    },
    {
     "data": {
      "image/svg+xml": "<?xml version=\"1.0\" encoding=\"UTF-8\" standalone=\"no\"?>\n<!DOCTYPE svg PUBLIC \"-//W3C//DTD SVG 1.1//EN\"\n \"http://www.w3.org/Graphics/SVG/1.1/DTD/svg11.dtd\">\n<!-- Generated by graphviz version 2.43.0 (0)\n -->\n<!-- Title: %3 Pages: 1 -->\n<svg width=\"3431pt\" height=\"210pt\"\n viewBox=\"0.00 0.00 3430.60 210.00\" xmlns=\"http://www.w3.org/2000/svg\" xmlns:xlink=\"http://www.w3.org/1999/xlink\">\n<g id=\"graph0\" class=\"graph\" transform=\"scale(1 1) rotate(0) translate(4 206)\">\n<title>%3</title>\n<polygon fill=\"white\" stroke=\"transparent\" points=\"-4,4 -4,-206 3426.6,-206 3426.6,4 -4,4\"/>\n<!-- 140504988364320 -->\n<g id=\"node1\" class=\"node\">\n<title>140504988364320</title>\n<polygon fill=\"none\" stroke=\"black\" points=\"2838.6,-57.5 2838.6,-93.5 3065.6,-93.5 3065.6,-57.5 2838.6,-57.5\"/>\n<text text-anchor=\"middle\" x=\"2849.1\" y=\"-71.8\" font-family=\"Times,serif\" font-size=\"14.00\"> </text>\n<polyline fill=\"none\" stroke=\"black\" points=\"2859.6,-57.5 2859.6,-93.5 \"/>\n<text text-anchor=\"middle\" x=\"2910.6\" y=\"-71.8\" font-family=\"Times,serif\" font-size=\"14.00\">data 0.1464</text>\n<polyline fill=\"none\" stroke=\"black\" points=\"2961.6,-57.5 2961.6,-93.5 \"/>\n<text text-anchor=\"middle\" x=\"3013.6\" y=\"-71.8\" font-family=\"Times,serif\" font-size=\"14.00\">grad 4.8284</text>\n</g>\n<!-- 140504988362784* -->\n<g id=\"node4\" class=\"node\">\n<title>140504988362784*</title>\n<ellipse fill=\"none\" stroke=\"black\" cx=\"3128.6\" cy=\"-98.5\" rx=\"27\" ry=\"18\"/>\n<text text-anchor=\"middle\" x=\"3128.6\" y=\"-94.8\" font-family=\"Times,serif\" font-size=\"14.00\">*</text>\n</g>\n<!-- 140504988364320&#45;&gt;140504988362784* -->\n<g id=\"edge23\" class=\"edge\">\n<title>140504988364320&#45;&gt;140504988362784*</title>\n<path fill=\"none\" stroke=\"black\" d=\"M3066.07,-90.39C3075.17,-91.59 3083.86,-92.74 3091.69,-93.77\"/>\n<polygon fill=\"black\" stroke=\"black\" points=\"3091.43,-97.26 3101.8,-95.1 3092.34,-90.32 3091.43,-97.26\"/>\n</g>\n<!-- 140504988364320**&#45;1 -->\n<g id=\"node2\" class=\"node\">\n<title>140504988364320**&#45;1</title>\n<ellipse fill=\"none\" stroke=\"black\" cx=\"2689.1\" cy=\"-71.5\" rx=\"28.7\" ry=\"18\"/>\n<text text-anchor=\"middle\" x=\"2689.1\" y=\"-67.8\" font-family=\"Times,serif\" font-size=\"14.00\">**&#45;1</text>\n</g>\n<!-- 140504988364320**&#45;1&#45;&gt;140504988364320 -->\n<g id=\"edge1\" class=\"edge\">\n<title>140504988364320**&#45;1&#45;&gt;140504988364320</title>\n<path fill=\"none\" stroke=\"black\" d=\"M2718.03,-71.93C2744.75,-72.34 2786.99,-72.98 2828.21,-73.62\"/>\n<polygon fill=\"black\" stroke=\"black\" points=\"2828.32,-77.12 2838.37,-73.77 2828.43,-70.12 2828.32,-77.12\"/>\n</g>\n<!-- 140504988362784 -->\n<g id=\"node3\" class=\"node\">\n<title>140504988362784</title>\n<polygon fill=\"none\" stroke=\"black\" points=\"3191.6,-80.5 3191.6,-116.5 3422.6,-116.5 3422.6,-80.5 3191.6,-80.5\"/>\n<text text-anchor=\"middle\" x=\"3204.1\" y=\"-94.8\" font-family=\"Times,serif\" font-size=\"14.00\">o</text>\n<polyline fill=\"none\" stroke=\"black\" points=\"3216.6,-80.5 3216.6,-116.5 \"/>\n<text text-anchor=\"middle\" x=\"3267.6\" y=\"-94.8\" font-family=\"Times,serif\" font-size=\"14.00\">data 0.7071</text>\n<polyline fill=\"none\" stroke=\"black\" points=\"3318.6,-80.5 3318.6,-116.5 \"/>\n<text text-anchor=\"middle\" x=\"3370.6\" y=\"-94.8\" font-family=\"Times,serif\" font-size=\"14.00\">grad 1.0000</text>\n</g>\n<!-- 140504988362784*&#45;&gt;140504988362784 -->\n<g id=\"edge2\" class=\"edge\">\n<title>140504988362784*&#45;&gt;140504988362784</title>\n<path fill=\"none\" stroke=\"black\" d=\"M3155.64,-98.5C3163.18,-98.5 3171.96,-98.5 3181.41,-98.5\"/>\n<polygon fill=\"black\" stroke=\"black\" points=\"3181.49,-102 3191.49,-98.5 3181.49,-95 3181.49,-102\"/>\n</g>\n<!-- 140504988362304 -->\n<g id=\"node5\" class=\"node\">\n<title>140504988362304</title>\n<polygon fill=\"none\" stroke=\"black\" points=\"774,-82.5 774,-118.5 1113,-118.5 1113,-82.5 774,-82.5\"/>\n<text text-anchor=\"middle\" x=\"838\" y=\"-96.8\" font-family=\"Times,serif\" font-size=\"14.00\">x1*w1 + x2*w2</text>\n<polyline fill=\"none\" stroke=\"black\" points=\"902,-82.5 902,-118.5 \"/>\n<text text-anchor=\"middle\" x=\"955.5\" y=\"-96.8\" font-family=\"Times,serif\" font-size=\"14.00\">data &#45;6.0000</text>\n<polyline fill=\"none\" stroke=\"black\" points=\"1009,-82.5 1009,-118.5 \"/>\n<text text-anchor=\"middle\" x=\"1061\" y=\"-96.8\" font-family=\"Times,serif\" font-size=\"14.00\">grad 0.5000</text>\n</g>\n<!-- 140504988363168+ -->\n<g id=\"node22\" class=\"node\">\n<title>140504988363168+</title>\n<ellipse fill=\"none\" stroke=\"black\" cx=\"1176\" cy=\"-72.5\" rx=\"27\" ry=\"18\"/>\n<text text-anchor=\"middle\" x=\"1176\" y=\"-68.8\" font-family=\"Times,serif\" font-size=\"14.00\">+</text>\n</g>\n<!-- 140504988362304&#45;&gt;140504988363168+ -->\n<g id=\"edge11\" class=\"edge\">\n<title>140504988362304&#45;&gt;140504988363168+</title>\n<path fill=\"none\" stroke=\"black\" d=\"M1092.76,-82.49C1109.86,-80.41 1125.9,-78.46 1139.2,-76.85\"/>\n<polygon fill=\"black\" stroke=\"black\" points=\"1139.74,-80.31 1149.24,-75.63 1138.89,-73.36 1139.74,-80.31\"/>\n</g>\n<!-- 140504988362304+ -->\n<g id=\"node6\" class=\"node\">\n<title>140504988362304+</title>\n<ellipse fill=\"none\" stroke=\"black\" cx=\"711\" cy=\"-100.5\" rx=\"27\" ry=\"18\"/>\n<text text-anchor=\"middle\" x=\"711\" y=\"-96.8\" font-family=\"Times,serif\" font-size=\"14.00\">+</text>\n</g>\n<!-- 140504988362304+&#45;&gt;140504988362304 -->\n<g id=\"edge3\" class=\"edge\">\n<title>140504988362304+&#45;&gt;140504988362304</title>\n<path fill=\"none\" stroke=\"black\" d=\"M738.44,-100.5C745.81,-100.5 754.42,-100.5 763.84,-100.5\"/>\n<polygon fill=\"black\" stroke=\"black\" points=\"763.94,-104 773.94,-100.5 763.94,-97 763.94,-104\"/>\n</g>\n<!-- 140504988361296 -->\n<g id=\"node7\" class=\"node\">\n<title>140504988361296</title>\n<polygon fill=\"none\" stroke=\"black\" points=\"377.5,-110.5 377.5,-146.5 645.5,-146.5 645.5,-110.5 377.5,-110.5\"/>\n<text text-anchor=\"middle\" x=\"408.5\" y=\"-124.8\" font-family=\"Times,serif\" font-size=\"14.00\">x2*w2</text>\n<polyline fill=\"none\" stroke=\"black\" points=\"439.5,-110.5 439.5,-146.5 \"/>\n<text text-anchor=\"middle\" x=\"490.5\" y=\"-124.8\" font-family=\"Times,serif\" font-size=\"14.00\">data 0.0000</text>\n<polyline fill=\"none\" stroke=\"black\" points=\"541.5,-110.5 541.5,-146.5 \"/>\n<text text-anchor=\"middle\" x=\"593.5\" y=\"-124.8\" font-family=\"Times,serif\" font-size=\"14.00\">grad 0.5000</text>\n</g>\n<!-- 140504988361296&#45;&gt;140504988362304+ -->\n<g id=\"edge12\" class=\"edge\">\n<title>140504988361296&#45;&gt;140504988362304+</title>\n<path fill=\"none\" stroke=\"black\" d=\"M639.53,-110.49C652.09,-108.71 663.99,-107.02 674.3,-105.56\"/>\n<polygon fill=\"black\" stroke=\"black\" points=\"675.03,-108.99 684.44,-104.12 674.05,-102.06 675.03,-108.99\"/>\n</g>\n<!-- 140504988361296* -->\n<g id=\"node8\" class=\"node\">\n<title>140504988361296*</title>\n<ellipse fill=\"none\" stroke=\"black\" cx=\"312\" cy=\"-128.5\" rx=\"27\" ry=\"18\"/>\n<text text-anchor=\"middle\" x=\"312\" y=\"-124.8\" font-family=\"Times,serif\" font-size=\"14.00\">*</text>\n</g>\n<!-- 140504988361296*&#45;&gt;140504988361296 -->\n<g id=\"edge4\" class=\"edge\">\n<title>140504988361296*&#45;&gt;140504988361296</title>\n<path fill=\"none\" stroke=\"black\" d=\"M339.23,-128.5C347.26,-128.5 356.72,-128.5 366.99,-128.5\"/>\n<polygon fill=\"black\" stroke=\"black\" points=\"367.08,-132 377.08,-128.5 367.08,-125 367.08,-132\"/>\n</g>\n<!-- 140504988361824 -->\n<g id=\"node9\" class=\"node\">\n<title>140504988361824</title>\n<polygon fill=\"none\" stroke=\"black\" points=\"1241.5,-109.5 1241.5,-145.5 1468.5,-145.5 1468.5,-109.5 1241.5,-109.5\"/>\n<text text-anchor=\"middle\" x=\"1252\" y=\"-123.8\" font-family=\"Times,serif\" font-size=\"14.00\"> </text>\n<polyline fill=\"none\" stroke=\"black\" points=\"1262.5,-109.5 1262.5,-145.5 \"/>\n<text text-anchor=\"middle\" x=\"1313.5\" y=\"-123.8\" font-family=\"Times,serif\" font-size=\"14.00\">data 2.0000</text>\n<polyline fill=\"none\" stroke=\"black\" points=\"1364.5,-109.5 1364.5,-145.5 \"/>\n<text text-anchor=\"middle\" x=\"1416.5\" y=\"-123.8\" font-family=\"Times,serif\" font-size=\"14.00\">grad 0.2203</text>\n</g>\n<!-- 140504988362688* -->\n<g id=\"node24\" class=\"node\">\n<title>140504988362688*</title>\n<ellipse fill=\"none\" stroke=\"black\" cx=\"1534\" cy=\"-99.5\" rx=\"27\" ry=\"18\"/>\n<text text-anchor=\"middle\" x=\"1534\" y=\"-95.8\" font-family=\"Times,serif\" font-size=\"14.00\">*</text>\n</g>\n<!-- 140504988361824&#45;&gt;140504988362688* -->\n<g id=\"edge24\" class=\"edge\">\n<title>140504988361824&#45;&gt;140504988362688*</title>\n<path fill=\"none\" stroke=\"black\" d=\"M1468.6,-109.69C1478.87,-108.06 1488.68,-106.51 1497.4,-105.13\"/>\n<polygon fill=\"black\" stroke=\"black\" points=\"1498.14,-108.56 1507.47,-103.54 1497.04,-101.64 1498.14,-108.56\"/>\n</g>\n<!-- 140504988361872 -->\n<g id=\"node10\" class=\"node\">\n<title>140504988361872</title>\n<polygon fill=\"none\" stroke=\"black\" points=\"2308.6,-53.5 2308.6,-89.5 2539.6,-89.5 2539.6,-53.5 2308.6,-53.5\"/>\n<text text-anchor=\"middle\" x=\"2319.1\" y=\"-67.8\" font-family=\"Times,serif\" font-size=\"14.00\"> </text>\n<polyline fill=\"none\" stroke=\"black\" points=\"2329.6,-53.5 2329.6,-89.5 \"/>\n<text text-anchor=\"middle\" x=\"2380.6\" y=\"-67.8\" font-family=\"Times,serif\" font-size=\"14.00\">data 6.8284</text>\n<polyline fill=\"none\" stroke=\"black\" points=\"2431.6,-53.5 2431.6,-89.5 \"/>\n<text text-anchor=\"middle\" x=\"2485.6\" y=\"-67.8\" font-family=\"Times,serif\" font-size=\"14.00\">grad &#45;0.1036</text>\n</g>\n<!-- 140504988361872&#45;&gt;140504988364320**&#45;1 -->\n<g id=\"edge18\" class=\"edge\">\n<title>140504988361872&#45;&gt;140504988364320**&#45;1</title>\n<path fill=\"none\" stroke=\"black\" d=\"M2539.69,-71.5C2579.38,-71.5 2621.17,-71.5 2650.25,-71.5\"/>\n<polygon fill=\"black\" stroke=\"black\" points=\"2650.37,-75 2660.37,-71.5 2650.37,-68 2650.37,-75\"/>\n</g>\n<!-- 140504988361872+ -->\n<g id=\"node11\" class=\"node\">\n<title>140504988361872+</title>\n<ellipse fill=\"none\" stroke=\"black\" cx=\"2245.6\" cy=\"-71.5\" rx=\"27\" ry=\"18\"/>\n<text text-anchor=\"middle\" x=\"2245.6\" y=\"-67.8\" font-family=\"Times,serif\" font-size=\"14.00\">+</text>\n</g>\n<!-- 140504988361872+&#45;&gt;140504988361872 -->\n<g id=\"edge5\" class=\"edge\">\n<title>140504988361872+&#45;&gt;140504988361872</title>\n<path fill=\"none\" stroke=\"black\" d=\"M2272.64,-71.5C2280.18,-71.5 2288.96,-71.5 2298.41,-71.5\"/>\n<polygon fill=\"black\" stroke=\"black\" points=\"2298.49,-75 2308.49,-71.5 2298.49,-68 2298.49,-75\"/>\n</g>\n<!-- 140504988398736 -->\n<g id=\"node12\" class=\"node\">\n<title>140504988398736</title>\n<polygon fill=\"none\" stroke=\"black\" points=\"827.5,-27.5 827.5,-63.5 1059.5,-63.5 1059.5,-27.5 827.5,-27.5\"/>\n<text text-anchor=\"middle\" x=\"840.5\" y=\"-41.8\" font-family=\"Times,serif\" font-size=\"14.00\">b</text>\n<polyline fill=\"none\" stroke=\"black\" points=\"853.5,-27.5 853.5,-63.5 \"/>\n<text text-anchor=\"middle\" x=\"904.5\" y=\"-41.8\" font-family=\"Times,serif\" font-size=\"14.00\">data 6.8814</text>\n<polyline fill=\"none\" stroke=\"black\" points=\"955.5,-27.5 955.5,-63.5 \"/>\n<text text-anchor=\"middle\" x=\"1007.5\" y=\"-41.8\" font-family=\"Times,serif\" font-size=\"14.00\">grad 0.5000</text>\n</g>\n<!-- 140504988398736&#45;&gt;140504988363168+ -->\n<g id=\"edge25\" class=\"edge\">\n<title>140504988398736&#45;&gt;140504988363168+</title>\n<path fill=\"none\" stroke=\"black\" d=\"M1059.75,-59C1088.57,-62.38 1117.4,-65.75 1139.01,-68.28\"/>\n<polygon fill=\"black\" stroke=\"black\" points=\"1138.67,-71.77 1149.01,-69.46 1139.48,-64.82 1138.67,-71.77\"/>\n</g>\n<!-- 140504988360864 -->\n<g id=\"node13\" class=\"node\">\n<title>140504988360864</title>\n<polygon fill=\"none\" stroke=\"black\" points=\"1950.6,-136.5 1950.6,-172.5 2182.6,-172.5 2182.6,-136.5 1950.6,-136.5\"/>\n<text text-anchor=\"middle\" x=\"1961.1\" y=\"-150.8\" font-family=\"Times,serif\" font-size=\"14.00\"> </text>\n<polyline fill=\"none\" stroke=\"black\" points=\"1971.6,-136.5 1971.6,-172.5 \"/>\n<text text-anchor=\"middle\" x=\"2025.1\" y=\"-150.8\" font-family=\"Times,serif\" font-size=\"14.00\">data &#45;1.0000</text>\n<polyline fill=\"none\" stroke=\"black\" points=\"2078.6,-136.5 2078.6,-172.5 \"/>\n<text text-anchor=\"middle\" x=\"2130.6\" y=\"-150.8\" font-family=\"Times,serif\" font-size=\"14.00\">grad 0.1464</text>\n</g>\n<!-- 140504988361152+ -->\n<g id=\"node26\" class=\"node\">\n<title>140504988361152+</title>\n<ellipse fill=\"none\" stroke=\"black\" cx=\"2245.6\" cy=\"-126.5\" rx=\"27\" ry=\"18\"/>\n<text text-anchor=\"middle\" x=\"2245.6\" y=\"-122.8\" font-family=\"Times,serif\" font-size=\"14.00\">+</text>\n</g>\n<!-- 140504988360864&#45;&gt;140504988361152+ -->\n<g id=\"edge15\" class=\"edge\">\n<title>140504988360864&#45;&gt;140504988361152+</title>\n<path fill=\"none\" stroke=\"black\" d=\"M2181.69,-136.45C2191.48,-134.9 2200.8,-133.43 2209.14,-132.11\"/>\n<polygon fill=\"black\" stroke=\"black\" points=\"2209.79,-135.55 2219.12,-130.53 2208.69,-128.64 2209.79,-135.55\"/>\n</g>\n<!-- 140504988399840 -->\n<g id=\"node14\" class=\"node\">\n<title>140504988399840</title>\n<polygon fill=\"none\" stroke=\"black\" points=\"4.5,-165.5 4.5,-201.5 244.5,-201.5 244.5,-165.5 4.5,-165.5\"/>\n<text text-anchor=\"middle\" x=\"21.5\" y=\"-179.8\" font-family=\"Times,serif\" font-size=\"14.00\">x2</text>\n<polyline fill=\"none\" stroke=\"black\" points=\"38.5,-165.5 38.5,-201.5 \"/>\n<text text-anchor=\"middle\" x=\"89.5\" y=\"-179.8\" font-family=\"Times,serif\" font-size=\"14.00\">data 0.0000</text>\n<polyline fill=\"none\" stroke=\"black\" points=\"140.5,-165.5 140.5,-201.5 \"/>\n<text text-anchor=\"middle\" x=\"192.5\" y=\"-179.8\" font-family=\"Times,serif\" font-size=\"14.00\">grad 0.5000</text>\n</g>\n<!-- 140504988399840&#45;&gt;140504988361296* -->\n<g id=\"edge26\" class=\"edge\">\n<title>140504988399840&#45;&gt;140504988361296*</title>\n<path fill=\"none\" stroke=\"black\" d=\"M218.13,-165.46C228.63,-162.77 239.1,-159.78 249,-156.5 259.71,-152.96 271.05,-148.16 281.07,-143.54\"/>\n<polygon fill=\"black\" stroke=\"black\" points=\"282.67,-146.66 290.2,-139.21 279.67,-140.33 282.67,-146.66\"/>\n</g>\n<!-- 140504988401136 -->\n<g id=\"node15\" class=\"node\">\n<title>140504988401136</title>\n<polygon fill=\"none\" stroke=\"black\" points=\"2.5,-55.5 2.5,-91.5 246.5,-91.5 246.5,-55.5 2.5,-55.5\"/>\n<text text-anchor=\"middle\" x=\"19.5\" y=\"-69.8\" font-family=\"Times,serif\" font-size=\"14.00\">x1</text>\n<polyline fill=\"none\" stroke=\"black\" points=\"36.5,-55.5 36.5,-91.5 \"/>\n<text text-anchor=\"middle\" x=\"87.5\" y=\"-69.8\" font-family=\"Times,serif\" font-size=\"14.00\">data 2.0000</text>\n<polyline fill=\"none\" stroke=\"black\" points=\"138.5,-55.5 138.5,-91.5 \"/>\n<text text-anchor=\"middle\" x=\"192.5\" y=\"-69.8\" font-family=\"Times,serif\" font-size=\"14.00\">grad &#45;1.5000</text>\n</g>\n<!-- 140504988361536* -->\n<g id=\"node17\" class=\"node\">\n<title>140504988361536*</title>\n<ellipse fill=\"none\" stroke=\"black\" cx=\"312\" cy=\"-73.5\" rx=\"27\" ry=\"18\"/>\n<text text-anchor=\"middle\" x=\"312\" y=\"-69.8\" font-family=\"Times,serif\" font-size=\"14.00\">*</text>\n</g>\n<!-- 140504988401136&#45;&gt;140504988361536* -->\n<g id=\"edge17\" class=\"edge\">\n<title>140504988401136&#45;&gt;140504988361536*</title>\n<path fill=\"none\" stroke=\"black\" d=\"M246.64,-73.5C256.7,-73.5 266.26,-73.5 274.79,-73.5\"/>\n<polygon fill=\"black\" stroke=\"black\" points=\"275,-77 285,-73.5 275,-70 275,-77\"/>\n</g>\n<!-- 140504988361536 -->\n<g id=\"node16\" class=\"node\">\n<title>140504988361536</title>\n<polygon fill=\"none\" stroke=\"black\" points=\"375,-55.5 375,-91.5 648,-91.5 648,-55.5 375,-55.5\"/>\n<text text-anchor=\"middle\" x=\"406\" y=\"-69.8\" font-family=\"Times,serif\" font-size=\"14.00\">x1*w1</text>\n<polyline fill=\"none\" stroke=\"black\" points=\"437,-55.5 437,-91.5 \"/>\n<text text-anchor=\"middle\" x=\"490.5\" y=\"-69.8\" font-family=\"Times,serif\" font-size=\"14.00\">data &#45;6.0000</text>\n<polyline fill=\"none\" stroke=\"black\" points=\"544,-55.5 544,-91.5 \"/>\n<text text-anchor=\"middle\" x=\"596\" y=\"-69.8\" font-family=\"Times,serif\" font-size=\"14.00\">grad 0.5000</text>\n</g>\n<!-- 140504988361536&#45;&gt;140504988362304+ -->\n<g id=\"edge22\" class=\"edge\">\n<title>140504988361536&#45;&gt;140504988362304+</title>\n<path fill=\"none\" stroke=\"black\" d=\"M644.24,-91.51C655.12,-93 665.4,-94.4 674.45,-95.64\"/>\n<polygon fill=\"black\" stroke=\"black\" points=\"674.11,-99.13 684.49,-97.01 675.05,-92.19 674.11,-99.13\"/>\n</g>\n<!-- 140504988361536*&#45;&gt;140504988361536 -->\n<g id=\"edge6\" class=\"edge\">\n<title>140504988361536*&#45;&gt;140504988361536</title>\n<path fill=\"none\" stroke=\"black\" d=\"M339.23,-73.5C346.7,-73.5 355.41,-73.5 364.87,-73.5\"/>\n<polygon fill=\"black\" stroke=\"black\" points=\"364.98,-77 374.98,-73.5 364.98,-70 364.98,-77\"/>\n</g>\n<!-- 140504988400992 -->\n<g id=\"node18\" class=\"node\">\n<title>140504988400992</title>\n<polygon fill=\"none\" stroke=\"black\" points=\"0,-0.5 0,-36.5 249,-36.5 249,-0.5 0,-0.5\"/>\n<text text-anchor=\"middle\" x=\"19\" y=\"-14.8\" font-family=\"Times,serif\" font-size=\"14.00\">w1</text>\n<polyline fill=\"none\" stroke=\"black\" points=\"38,-0.5 38,-36.5 \"/>\n<text text-anchor=\"middle\" x=\"91.5\" y=\"-14.8\" font-family=\"Times,serif\" font-size=\"14.00\">data &#45;3.0000</text>\n<polyline fill=\"none\" stroke=\"black\" points=\"145,-0.5 145,-36.5 \"/>\n<text text-anchor=\"middle\" x=\"197\" y=\"-14.8\" font-family=\"Times,serif\" font-size=\"14.00\">grad 1.0000</text>\n</g>\n<!-- 140504988400992&#45;&gt;140504988361536* -->\n<g id=\"edge20\" class=\"edge\">\n<title>140504988400992&#45;&gt;140504988361536*</title>\n<path fill=\"none\" stroke=\"black\" d=\"M218.13,-36.54C228.63,-39.23 239.1,-42.22 249,-45.5 259.71,-49.04 271.05,-53.84 281.07,-58.46\"/>\n<polygon fill=\"black\" stroke=\"black\" points=\"279.67,-61.67 290.2,-62.79 282.67,-55.34 279.67,-61.67\"/>\n</g>\n<!-- 140504988399600 -->\n<g id=\"node19\" class=\"node\">\n<title>140504988399600</title>\n<polygon fill=\"none\" stroke=\"black\" points=\"2.5,-110.5 2.5,-146.5 246.5,-146.5 246.5,-110.5 2.5,-110.5\"/>\n<text text-anchor=\"middle\" x=\"21.5\" y=\"-124.8\" font-family=\"Times,serif\" font-size=\"14.00\">w2</text>\n<polyline fill=\"none\" stroke=\"black\" points=\"40.5,-110.5 40.5,-146.5 \"/>\n<text text-anchor=\"middle\" x=\"91.5\" y=\"-124.8\" font-family=\"Times,serif\" font-size=\"14.00\">data 1.0000</text>\n<polyline fill=\"none\" stroke=\"black\" points=\"142.5,-110.5 142.5,-146.5 \"/>\n<text text-anchor=\"middle\" x=\"194.5\" y=\"-124.8\" font-family=\"Times,serif\" font-size=\"14.00\">grad 0.0000</text>\n</g>\n<!-- 140504988399600&#45;&gt;140504988361296* -->\n<g id=\"edge28\" class=\"edge\">\n<title>140504988399600&#45;&gt;140504988361296*</title>\n<path fill=\"none\" stroke=\"black\" d=\"M246.64,-128.5C256.7,-128.5 266.26,-128.5 274.79,-128.5\"/>\n<polygon fill=\"black\" stroke=\"black\" points=\"275,-132 285,-128.5 275,-125 275,-132\"/>\n</g>\n<!-- 140504988363648 -->\n<g id=\"node20\" class=\"node\">\n<title>140504988363648</title>\n<polygon fill=\"none\" stroke=\"black\" points=\"1951.1,-26.5 1951.1,-62.5 2182.1,-62.5 2182.1,-26.5 1951.1,-26.5\"/>\n<text text-anchor=\"middle\" x=\"1961.6\" y=\"-40.8\" font-family=\"Times,serif\" font-size=\"14.00\"> </text>\n<polyline fill=\"none\" stroke=\"black\" points=\"1972.1,-26.5 1972.1,-62.5 \"/>\n<text text-anchor=\"middle\" x=\"2023.1\" y=\"-40.8\" font-family=\"Times,serif\" font-size=\"14.00\">data 1.0000</text>\n<polyline fill=\"none\" stroke=\"black\" points=\"2074.1,-26.5 2074.1,-62.5 \"/>\n<text text-anchor=\"middle\" x=\"2128.1\" y=\"-40.8\" font-family=\"Times,serif\" font-size=\"14.00\">grad &#45;0.1036</text>\n</g>\n<!-- 140504988363648&#45;&gt;140504988361872+ -->\n<g id=\"edge27\" class=\"edge\">\n<title>140504988363648&#45;&gt;140504988361872+</title>\n<path fill=\"none\" stroke=\"black\" d=\"M2182.19,-61.98C2191.71,-63.43 2200.79,-64.82 2208.93,-66.06\"/>\n<polygon fill=\"black\" stroke=\"black\" points=\"2208.63,-69.55 2219.04,-67.6 2209.68,-62.63 2208.63,-69.55\"/>\n</g>\n<!-- 140504988363168 -->\n<g id=\"node21\" class=\"node\">\n<title>140504988363168</title>\n<polygon fill=\"none\" stroke=\"black\" points=\"1239,-54.5 1239,-90.5 1471,-90.5 1471,-54.5 1239,-54.5\"/>\n<text text-anchor=\"middle\" x=\"1252\" y=\"-68.8\" font-family=\"Times,serif\" font-size=\"14.00\">n</text>\n<polyline fill=\"none\" stroke=\"black\" points=\"1265,-54.5 1265,-90.5 \"/>\n<text text-anchor=\"middle\" x=\"1316\" y=\"-68.8\" font-family=\"Times,serif\" font-size=\"14.00\">data 0.8814</text>\n<polyline fill=\"none\" stroke=\"black\" points=\"1367,-54.5 1367,-90.5 \"/>\n<text text-anchor=\"middle\" x=\"1419\" y=\"-68.8\" font-family=\"Times,serif\" font-size=\"14.00\">grad 0.5000</text>\n</g>\n<!-- 140504988363168&#45;&gt;140504988362688* -->\n<g id=\"edge16\" class=\"edge\">\n<title>140504988363168&#45;&gt;140504988362688*</title>\n<path fill=\"none\" stroke=\"black\" d=\"M1471.09,-90.06C1480.46,-91.49 1489.39,-92.85 1497.4,-94.07\"/>\n<polygon fill=\"black\" stroke=\"black\" points=\"1496.96,-97.54 1507.37,-95.59 1498.01,-90.62 1496.96,-97.54\"/>\n</g>\n<!-- 140504988363168+&#45;&gt;140504988363168 -->\n<g id=\"edge7\" class=\"edge\">\n<title>140504988363168+&#45;&gt;140504988363168</title>\n<path fill=\"none\" stroke=\"black\" d=\"M1203.12,-72.5C1210.53,-72.5 1219.14,-72.5 1228.4,-72.5\"/>\n<polygon fill=\"black\" stroke=\"black\" points=\"1228.69,-76 1238.69,-72.5 1228.69,-69 1228.69,-76\"/>\n</g>\n<!-- 140504988362688 -->\n<g id=\"node23\" class=\"node\">\n<title>140504988362688</title>\n<polygon fill=\"none\" stroke=\"black\" points=\"1597,-81.5 1597,-117.5 1824,-117.5 1824,-81.5 1597,-81.5\"/>\n<text text-anchor=\"middle\" x=\"1607.5\" y=\"-95.8\" font-family=\"Times,serif\" font-size=\"14.00\"> </text>\n<polyline fill=\"none\" stroke=\"black\" points=\"1618,-81.5 1618,-117.5 \"/>\n<text text-anchor=\"middle\" x=\"1669\" y=\"-95.8\" font-family=\"Times,serif\" font-size=\"14.00\">data 1.7627</text>\n<polyline fill=\"none\" stroke=\"black\" points=\"1720,-81.5 1720,-117.5 \"/>\n<text text-anchor=\"middle\" x=\"1772\" y=\"-95.8\" font-family=\"Times,serif\" font-size=\"14.00\">grad 0.2500</text>\n</g>\n<!-- 140504988361200exp -->\n<g id=\"node28\" class=\"node\">\n<title>140504988361200exp</title>\n<ellipse fill=\"none\" stroke=\"black\" cx=\"1887.3\" cy=\"-99.5\" rx=\"27.1\" ry=\"18\"/>\n<text text-anchor=\"middle\" x=\"1887.3\" y=\"-95.8\" font-family=\"Times,serif\" font-size=\"14.00\">exp</text>\n</g>\n<!-- 140504988362688&#45;&gt;140504988361200exp -->\n<g id=\"edge21\" class=\"edge\">\n<title>140504988362688&#45;&gt;140504988361200exp</title>\n<path fill=\"none\" stroke=\"black\" d=\"M1824.18,-99.5C1833.26,-99.5 1841.95,-99.5 1849.79,-99.5\"/>\n<polygon fill=\"black\" stroke=\"black\" points=\"1849.93,-103 1859.93,-99.5 1849.93,-96 1849.93,-103\"/>\n</g>\n<!-- 140504988362688*&#45;&gt;140504988362688 -->\n<g id=\"edge8\" class=\"edge\">\n<title>140504988362688*&#45;&gt;140504988362688</title>\n<path fill=\"none\" stroke=\"black\" d=\"M1561.12,-99.5C1568.67,-99.5 1577.45,-99.5 1586.9,-99.5\"/>\n<polygon fill=\"black\" stroke=\"black\" points=\"1586.95,-103 1596.95,-99.5 1586.95,-96 1586.95,-103\"/>\n</g>\n<!-- 140504988361152 -->\n<g id=\"node25\" class=\"node\">\n<title>140504988361152</title>\n<polygon fill=\"none\" stroke=\"black\" points=\"2575.6,-108.5 2575.6,-144.5 2802.6,-144.5 2802.6,-108.5 2575.6,-108.5\"/>\n<text text-anchor=\"middle\" x=\"2586.1\" y=\"-122.8\" font-family=\"Times,serif\" font-size=\"14.00\"> </text>\n<polyline fill=\"none\" stroke=\"black\" points=\"2596.6,-108.5 2596.6,-144.5 \"/>\n<text text-anchor=\"middle\" x=\"2647.6\" y=\"-122.8\" font-family=\"Times,serif\" font-size=\"14.00\">data 4.8284</text>\n<polyline fill=\"none\" stroke=\"black\" points=\"2698.6,-108.5 2698.6,-144.5 \"/>\n<text text-anchor=\"middle\" x=\"2750.6\" y=\"-122.8\" font-family=\"Times,serif\" font-size=\"14.00\">grad 0.1464</text>\n</g>\n<!-- 140504988361152&#45;&gt;140504988362784* -->\n<g id=\"edge19\" class=\"edge\">\n<title>140504988361152&#45;&gt;140504988362784*</title>\n<path fill=\"none\" stroke=\"black\" d=\"M2802.69,-120.17C2877.29,-115.84 2977.32,-109.76 3065.6,-103.5 3074.02,-102.9 3083.08,-102.2 3091.61,-101.52\"/>\n<polygon fill=\"black\" stroke=\"black\" points=\"3091.98,-105 3101.66,-100.7 3091.41,-98.03 3091.98,-105\"/>\n</g>\n<!-- 140504988361152+&#45;&gt;140504988361152 -->\n<g id=\"edge9\" class=\"edge\">\n<title>140504988361152+&#45;&gt;140504988361152</title>\n<path fill=\"none\" stroke=\"black\" d=\"M2272.89,-126.5C2329.16,-126.5 2464.31,-126.5 2565.23,-126.5\"/>\n<polygon fill=\"black\" stroke=\"black\" points=\"2565.5,-130 2575.5,-126.5 2565.5,-123 2565.5,-130\"/>\n</g>\n<!-- 140504988361200 -->\n<g id=\"node27\" class=\"node\">\n<title>140504988361200</title>\n<polygon fill=\"none\" stroke=\"black\" points=\"1953.1,-81.5 1953.1,-117.5 2180.1,-117.5 2180.1,-81.5 1953.1,-81.5\"/>\n<text text-anchor=\"middle\" x=\"1963.6\" y=\"-95.8\" font-family=\"Times,serif\" font-size=\"14.00\"> </text>\n<polyline fill=\"none\" stroke=\"black\" points=\"1974.1,-81.5 1974.1,-117.5 \"/>\n<text text-anchor=\"middle\" x=\"2025.1\" y=\"-95.8\" font-family=\"Times,serif\" font-size=\"14.00\">data 5.8284</text>\n<polyline fill=\"none\" stroke=\"black\" points=\"2076.1,-81.5 2076.1,-117.5 \"/>\n<text text-anchor=\"middle\" x=\"2128.1\" y=\"-95.8\" font-family=\"Times,serif\" font-size=\"14.00\">grad 0.0429</text>\n</g>\n<!-- 140504988361200&#45;&gt;140504988361872+ -->\n<g id=\"edge13\" class=\"edge\">\n<title>140504988361200&#45;&gt;140504988361872+</title>\n<path fill=\"none\" stroke=\"black\" d=\"M2180.19,-81.69C2190.47,-80.06 2200.28,-78.51 2209,-77.13\"/>\n<polygon fill=\"black\" stroke=\"black\" points=\"2209.73,-80.56 2219.06,-75.54 2208.64,-73.64 2209.73,-80.56\"/>\n</g>\n<!-- 140504988361200&#45;&gt;140504988361152+ -->\n<g id=\"edge14\" class=\"edge\">\n<title>140504988361200&#45;&gt;140504988361152+</title>\n<path fill=\"none\" stroke=\"black\" d=\"M2180.19,-116.68C2190.47,-118.24 2200.28,-119.74 2209,-121.07\"/>\n<polygon fill=\"black\" stroke=\"black\" points=\"2208.65,-124.56 2219.06,-122.61 2209.7,-117.64 2208.65,-124.56\"/>\n</g>\n<!-- 140504988361200exp&#45;&gt;140504988361200 -->\n<g id=\"edge10\" class=\"edge\">\n<title>140504988361200exp&#45;&gt;140504988361200</title>\n<path fill=\"none\" stroke=\"black\" d=\"M1914.84,-99.5C1922.97,-99.5 1932.49,-99.5 1942.74,-99.5\"/>\n<polygon fill=\"black\" stroke=\"black\" points=\"1942.76,-103 1952.76,-99.5 1942.76,-96 1942.76,-103\"/>\n</g>\n</g>\n</svg>\n",
      "text/plain": [
       "<graphviz.graphs.Digraph at 0x7fc9ddeba760>"
      ]
     },
     "execution_count": 91,
     "metadata": {},
     "output_type": "execute_result"
    }
   ],
   "source": [
    "# inputs x1,x2\n",
    "x1 = Value(2.0, label='x1')\n",
    "x2 = Value(0.0, label='x2')\n",
    "# weights w1,w2\n",
    "w1 = Value(-3.0, label='w1')\n",
    "w2 = Value(1.0, label='w2')\n",
    "# bias of the neuron\n",
    "b = Value(6.8813735870195432, label='b')\n",
    "# x1*w1 + x2*w2 + b\n",
    "x1w1 = x1*w1; x1w1.label = 'x1*w1'\n",
    "x2w2 = x2*w2; x2w2.label = 'x2*w2'\n",
    "x1w1x2w2 = x1w1 + x2w2; x1w1x2w2.label = 'x1*w1 + x2*w2'\n",
    "n = x1w1x2w2 + b; n.label = 'n'\n",
    "# ---- tanh with functions\n",
    "e = (2*n).exp()\n",
    "o = (e - 1) / (e + 1)\n",
    "# ----\n",
    "o.label = 'o'\n",
    "o.backward()\n",
    "draw_dot(o)"
   ]
  },
  {
   "cell_type": "code",
   "execution_count": 92,
   "metadata": {},
   "outputs": [],
   "source": [
    "#comparing with torch and tensorflow "
   ]
  },
  {
   "cell_type": "code",
   "execution_count": null,
   "metadata": {},
   "outputs": [],
   "source": []
  }
 ],
 "metadata": {
  "kernelspec": {
   "display_name": "Python 3.8.10 64-bit",
   "language": "python",
   "name": "python3"
  },
  "language_info": {
   "codemirror_mode": {
    "name": "ipython",
    "version": 3
   },
   "file_extension": ".py",
   "mimetype": "text/x-python",
   "name": "python",
   "nbconvert_exporter": "python",
   "pygments_lexer": "ipython3",
   "version": "3.8.10"
  },
  "orig_nbformat": 4,
  "vscode": {
   "interpreter": {
    "hash": "31f2aee4e71d21fbe5cf8b01ff0e069b9275f58929596ceb00d14d90e3e16cd6"
   }
  }
 },
 "nbformat": 4,
 "nbformat_minor": 2
}
