{
 "cells": [
  {
   "cell_type": "markdown",
   "metadata": {},
   "source": [
    "# Exercises:\n",
    "* E01: train a trigram language model, i.e. take two characters as an input to predict the 3rd one. Feel free to use either counting or a neural net. Evaluate the loss; Did it improve over a bigram model?\n",
    "\n",
    "* E02: split up the dataset randomly into 80% train set, 10% dev set, 10% test set. Train the bigram and trigram models only on the training set. Evaluate them on dev and test splits. What can you see?\n",
    "\n",
    "* E03: use the dev set to tune the strength of smoothing (or regularization) for the trigram model - i.e. try many possibilities and see which one works best based on the dev set loss. What patterns can you see in the train and dev set loss as you tune this strength? Take the best setting of the smoothing and evaluate on the test set once and at the end. How good of a loss do you achieve?\n",
    "\n",
    "* E04: we saw that our 1-hot vectors merely select a row of W, so producing these vectors explicitly feels wasteful. Can you delete our use of F.one_hot in favor of simply indexing into rows of W?\n",
    "\n",
    "* E05: look up and use F.cross_entropy instead. You should achieve the same result. Can you think of why we'd prefer to use F.cross_entropy instead?\n",
    "\n",
    "* E06: meta-exercise! Think of a fun/interesting exercise and complete it.\n",
    "\n"
   ]
  },
  {
   "cell_type": "code",
   "execution_count": 2,
   "metadata": {},
   "outputs": [],
   "source": [
    "import torch \n",
    "from tqdm import tqdm \n",
    "import matplotlib.pyplot as plt \n",
    "import random \n",
    "import torch.nn.functional as F\n",
    "%matplotlib inline "
   ]
  },
  {
   "cell_type": "code",
   "execution_count": 5,
   "metadata": {},
   "outputs": [],
   "source": [
    "#!wget https://raw.githubusercontent.com/dwyl/english-words/master/words_alpha.txt\n",
    "words = open('names.txt', 'r').read().splitlines() \n",
    "random.seed(42) "
   ]
  },
  {
   "cell_type": "code",
   "execution_count": 9,
   "metadata": {},
   "outputs": [
    {
     "data": {
      "text/plain": [
       "['morgan', 'filippo', 'maitreya']"
      ]
     },
     "execution_count": 9,
     "metadata": {},
     "output_type": "execute_result"
    }
   ],
   "source": [
    "words[999:]\n",
    "chars = 'abcdefghijklmnopqrstuvwxyz' \n",
    "random.shuffle(words)\n",
    "len(chars) ,len(words) \n",
    "words[:3]"
   ]
  },
  {
   "cell_type": "code",
   "execution_count": 10,
   "metadata": {},
   "outputs": [],
   "source": [
    "N = torch.zeros((27,27,27),dtype = torch.int32) # init \n",
    "stoi = {s:i+1 for i,s in enumerate(chars)}\n",
    "stoi['.'] = 0 \n",
    "itos = {i:s for s,i in stoi.items()} "
   ]
  },
  {
   "cell_type": "code",
   "execution_count": 11,
   "metadata": {},
   "outputs": [
    {
     "data": {
      "text/plain": [
       "(tensor([ 0, 13, 15,  ...,  5, 25,  1]),\n",
       " tensor([13, 15, 18,  ..., 25,  1, 14]),\n",
       " tensor([15, 18,  7,  ...,  1, 14,  0]))"
      ]
     },
     "execution_count": 11,
     "metadata": {},
     "output_type": "execute_result"
    }
   ],
   "source": [
    "xs , ys , zs= [],[] ,[]\n",
    "#print(words[:1])\n",
    "for w in words:\n",
    "  chs = ['.'] + list(w) + ['.']\n",
    "  for u,v,w in zip(chs,chs[1:],chs[2:]): \n",
    "    #print(u,v)\n",
    "    x = stoi[u]\n",
    "    y = stoi[v] \n",
    "    z = stoi[w]\n",
    "    xs.append(x)\n",
    "    ys.append(y)  \n",
    "    zs.append(z)\n",
    "\n",
    "xs = torch.tensor(xs)\n",
    "ys = torch.tensor(ys)\n",
    "zs = torch.tensor(zs)\n",
    "xs,ys,zs"
   ]
  },
  {
   "cell_type": "code",
   "execution_count": 13,
   "metadata": {},
   "outputs": [],
   "source": [
    "BLOCK = 2 #using first tow to predict the third  27*27 right? \n"
   ]
  },
  {
   "cell_type": "code",
   "execution_count": 14,
   "metadata": {},
   "outputs": [],
   "source": [
    "# creating dataset \n",
    "\n",
    "def build_dataset(words):\n",
    "  X,Y=[],[]  \n",
    "  context = [0]*BLOCK\n",
    "  for w in words:    \n",
    "    print(w)\n",
    "    for ch in w + '.':   \n",
    "      idx = stoi[ch]  \n",
    "      print(''.join(itos[i] for i in context), '--->', itos[idx])\n",
    "      X.append(context) \n",
    "      Y.append(idx) \n",
    "      context = context[1:]+[idx]\n",
    "      #print(context) \n",
    "  X = torch.tensor(X)\n",
    "  Y = torch.tensor(Y)\n",
    "  return X,Y"
   ]
  },
  {
   "cell_type": "code",
   "execution_count": 15,
   "metadata": {},
   "outputs": [
    {
     "name": "stdout",
     "output_type": "stream",
     "text": [
      "296084 333094\n"
     ]
    },
    {
     "data": {
      "text/plain": [
       "(torch.Size([3091801, 2]), torch.Size([3091801]))"
      ]
     },
     "execution_count": 15,
     "metadata": {},
     "output_type": "execute_result"
    }
   ],
   "source": [
    "''' \n",
    "train 80%\n",
    "dev 10%\n",
    "test 10% \n",
    "'''  \n",
    "n1 = int(0.8 * len(words))\n",
    "n2 = int(0.9 * len(words))\n",
    "\n",
    "X_train,Y_train= build_dataset(words[:n1]) \n",
    "X_dev,Y_dev= build_dataset(words[n1:n2]) \n",
    "X_test,Y_test= build_dataset(words[n2:]) \n",
    "\n",
    "print(n1,n2)\n",
    "X_train.shape,Y_train.shape"
   ]
  },
  {
   "cell_type": "code",
   "execution_count": 38,
   "metadata": {},
   "outputs": [],
   "source": [
    "g = torch.Generator().manual_seed(2147483647)\n",
    "C = torch.randn((27,10),generator = g)\n",
    "W1 = torch.randn((20,300),generator = g)\n",
    "B1 = torch.randn((300),generator = g) \n",
    "W2 = torch.randn((300,27),generator = g)\n",
    "B2 = torch.randn((27),generator = g) \n",
    "parameters = [C,W1,B1,W2,B2]"
   ]
  },
  {
   "cell_type": "code",
   "execution_count": 39,
   "metadata": {},
   "outputs": [],
   "source": [
    "for p in parameters : \n",
    "  p.requires_grad = True"
   ]
  },
  {
   "cell_type": "code",
   "execution_count": 40,
   "metadata": {},
   "outputs": [
    {
     "data": {
      "text/plain": [
       "torch.Size([3091801, 2, 10])"
      ]
     },
     "execution_count": 40,
     "metadata": {},
     "output_type": "execute_result"
    }
   ],
   "source": [
    "lri = [] \n",
    "C[X_train].shape"
   ]
  },
  {
   "cell_type": "code",
   "execution_count": 41,
   "metadata": {},
   "outputs": [
    {
     "name": "stderr",
     "output_type": "stream",
     "text": [
      "100%|██████████| 200000/200000 [01:34<00:00, 2115.49it/s]\n"
     ]
    },
    {
     "data": {
      "text/plain": [
       "2.9095370769500732"
      ]
     },
     "execution_count": 41,
     "metadata": {},
     "output_type": "execute_result"
    }
   ],
   "source": [
    "for _ in tqdm(range(200000)):\n",
    "  ix = torch.randint(0,X_train.shape[0],(32,)) # batch norm \n",
    "\n",
    "  #forward pass \n",
    "  emb = C[X_train[ix]]\n",
    "  L = emb.view(-1,20) @ W1  + B1 \n",
    "  logits = torch.tanh(L@W2 + B2)\n",
    "  loss = F.cross_entropy(logits,Y_train[ix])  \n",
    "\n",
    "  #backward pass\n",
    "  for p in parameters : \n",
    "    p.grad = None\n",
    "  loss.backward() \n",
    "\n",
    "  lr = 0.1 if _ < 100000 else 0.01\n",
    "  for p in parameters:\n",
    "    p.data += -lr * p.grad\n",
    "\n",
    "loss.item()\n",
    "\n"
   ]
  },
  {
   "cell_type": "code",
   "execution_count": 42,
   "metadata": {},
   "outputs": [
    {
     "ename": "",
     "evalue": "",
     "output_type": "error",
     "traceback": [
      "\u001b[1;31mThe Kernel crashed while executing code in the the current cell or a previous cell. Please review the code in the cell(s) to identify a possible cause of the failure. Click <a href='https://aka.ms/vscodeJupyterKernelCrash'>here</a> for more info. View Jupyter <a href='command:jupyter.viewOutput'>log</a> for further details."
     ]
    },
    {
     "ename": "",
     "evalue": "",
     "output_type": "error",
     "traceback": [
      "\u001b[1;31mCanceled future for execute_request message before replies were done"
     ]
    }
   ],
   "source": [
    "emb = C[X_train]\n",
    "L = emb.view(-1,20) @ W1  + B1 \n",
    "logits = torch.tanh(L@W2 + B2)\n",
    "loss = F.cross_entropy(logits,Y_train)  \n",
    "loss.item()"
   ]
  },
  {
   "cell_type": "code",
   "execution_count": 26,
   "metadata": {},
   "outputs": [
    {
     "data": {
      "text/plain": [
       "2.7565925121307373"
      ]
     },
     "execution_count": 26,
     "metadata": {},
     "output_type": "execute_result"
    }
   ],
   "source": [
    "emb = C[X_dev]\n",
    "L = emb.view(-1,20) @ W1  + B1 \n",
    "logits = torch.tanh(L@W2 + B2)\n",
    "loss = F.cross_entropy(logits,Y_dev)  \n",
    "loss.item()\n"
   ]
  },
  {
   "cell_type": "code",
   "execution_count": 27,
   "metadata": {},
   "outputs": [
    {
     "data": {
      "image/png": "[encoded data removed]",
      "text/plain": [
       "<Figure size 576x576 with 1 Axes>"
      ]
     },
     "metadata": {
      "needs_background": "light"
     },
     "output_type": "display_data"
    }
   ],
   "source": [
    "# visualize dimensions 0 and 1 of the embedding matrix C for all characters\n",
    "plt.figure(figsize=(8,8))\n",
    "plt.scatter(C[:,0].data, C[:,1].data, s=200)\n",
    "for i in range(C.shape[0]):\n",
    "    plt.text(C[i,0].item(), C[i,1].item(), itos[i], ha=\"center\", va=\"center\", color='white')\n",
    "plt.grid('minor')"
   ]
  },
  {
   "cell_type": "code",
   "execution_count": 32,
   "metadata": {},
   "outputs": [
    {
     "name": "stdout",
     "output_type": "stream",
     "text": [
      "nodiagoiameteleneiametesele.\n",
      "careiagoreiagoreiacodiacodiameteleametelenedelenedeleneilacodeleametelenedeleneiametelenedeleneiameteleneiampilacodiameteleametelenedeleneiagoiagoiagoiagoiametelemetelenedeleametelemoreiagoiagoiagoreiameteleneiagololoniametelenedelenedeleacodiagolacodiamprgatelenedeleametesenedeleiametesedeleamprgateleiloniagoreiametelenedelenedeleneiagoiamprgareiagoiagoreiameteleametesedeleneiameteleameteiagoiameteiametelemoreiagolacodiagololacodiameteseleneiagolenedeameteseleneiagolacodiameteselenedeleneiagoiametelenedelenedeleneiametelemoloniagolacodiagoiameteselenedeleneilacodiameteseleneiagoreilacodiagoiameteleametelenedelenedelenedeleneiagoreilacodiameteiagoiametesemoreiameteleneiagoiagoleameteleameteedeleameteleneiagolacodametelenedeleneiamoloniagolemoreilacodiagololaidelemolenedelenedeleameteiagoiagolololacodiametelenedelemoreiagololenedelenedeleameteseleneiagolenedelemoreiagoreiameteiametelenedelenedelenedeleneiagoiameteseleneiagololemolenedelenedeleneilacodeleameteleametelemololacedeleneiametelenedelenedeleametelenedelemoreiameteilareiametelenedelemoreiametesemoreiametelenedeleamoreiagoiagoiametelenedelenedeleametelemolenedeleameteselenedelenedelenedelemetesemoreiametesedelenedelenedelenedelenedeleneiagolacodiagoloniagoreiagololacodameteleametesemoreiameteleneiagolacodiameteseseleneilacodiagoiagoiametelenedelenedeleneilacodiamoreiagolaidelenedeleamoreiagoulenedeleametelenedeleneiametelemoreiamoreiagoiagoiagoiagoloniametelemolacodiametelenemoreiagoreiagoreilaconia.\n",
      "careiamoreiameteleneiageiamoreiagoreiametelenedelenedelemoreiagolacodiagodiagoiagoiameteselenedelemololenedelenedelemoreiametesemolacodiagoiamprgateseledeleametesemoreiametesenedeleameteiameteselemoreiagoreiagoiagolacodiametelenedelenedeleametelenedeleneiameteselenedelenedelenedelenedelenedeleneiagoiagoreiametesemoreiagoreiameteiameteiametelenedeleameteselenemoreiagoiagoleneiagololenedelenedeleametesemolacomoreiagolaconiagoloreiametesemoreiagoloniagoiameteselenedeleametesemoreiloniametelenedelenedeleiametelenedelenedeleneiameteiagolacodiagoiagoiametesemoreiametelenedelenedeleamoreiagoiameteleameteleneiamprgareiametereiameteleameiameteleneiagoreiametelenedeleneiameteseleametelenedelenedeleametelemoreiameteiameteilacodiametesedelenedeleametelenedeleameteselenemolacodiagoiametesemoreiagoiagololacodiametesemoreiagolenedeleneiagoiagoreiiameteiameteiagoloreiagoreiagolacodiagoloreiametelenedelenedeleameteselenedelenedeleametelenedeleneiagolacodiagoreiagoiametelenedeleneiagoiagoiameteleamoreia.\n",
      "careiametelenedelenedelenedelenedelemetelenedelemoleneiagoiagoreiameteiametesemoreiameteseleameteseleameteseleneiagoiameteleameteiametelenedelenedelenedelenedelenedelenedelenedeiagoreilareiameteleameteleneilacodiameteseleamoreiameteseleneiametesemoreiameteselemoreiagodiagoiametesemoreilacodiagoiametelacodiamorenedeleneiameteselenedelemoreiagoiameteselenedelenedelenedeleameteleneiameteseleametelenedeleneiagoreiamprgareiameteiagoiamolemoreiagolololenedeleametelemolololeneiagoiagoiamoreiametelenedelenedeleneilacodeleametelenedelenedelemololoniamoreiagoiagoiameteleneiagoiagoiagoiagololeameteselemoreiametelenedelenedelemoreilacodiameteselenedeiameteneiametelenedelenedeleametesemoreiagoiametelenedeleametelenedeleametelemoreiagolololacodiametesemoreiametelenedelenedeleneiameteleneiagololeameteleameteleneiagolenedelenedelenedelenedelenedelemolenedeleneiagoiametelenedelenedeleneilacodiametelenedelenedelenedeleneiameteiamprgareiameteselemoiagoloniagoiagoiametelemoreieameteiagoiameteseleneiameteselenedelemoreiametenedelenedelenedelenedelenedelemoreilacodiagoiamololeneiametesemoreilolacodiamoleiametelemololenedelenedeleameteselenedelemoreiamprgateseleneiametesemoreiameteleneiagoiagoreieametelenedelenedelenedeleneiagoiameteleametelenedelenedelenedelemoreiameteiagoiagoiametelenedeleadelenedelenedeleneiametelenedeleameteselemoleamprgatelenedeleametesesemoreiameteleametelenedeleneiameteselenemoreiametelenedelenedelenedeleametelenedelenedelemoreiametelenedelenedelenedelenedelenedelenedelenedeleneiagoiagolacodiagolacodiameteiagoreiagoreiagolenedeleneiagolacodeleneiametelenedelenedelenedelemolololololeameteselenedelenedeleneilacodiagoiagoreiametelemolenedelenedelenedelemoreiagolacodiagolemoreiamoreiagoloreiagoreiagoiagolacodiamoreiadelenedelemoreiagoiameteia.\n",
      "careiagoloniagoiagoleneilacodelenedelenedelenedeleneiagolacodiagoiamprgareiagoiagoiametesemoreiagoiagoloniameteselenedelenedeleameteseleameteleneilacodiagoiamprgatelenedeleneiametelenedelenedeleneiametelenedelenemoreiagolenedelenedeleametesemololacodiameteneiagolacodiagolenedelenedelenedelenedelenedelenedelenedelenedelenedelenedelenedeleametelenedeleneiampleneilacodiagolacodiagoiametelenedelenedelenedelenedelemoreis.\n",
      "cadeleneiagolacodiagoloniameteneiagoiametelenedeleneilacomoreiameteselenedelenedelenedelenedeleneilacodiameteleneiadeleameteiloniameteselenedelenedelemoreiameteleleameteiametesemeteleameteselemololoreiagoiagoloniamoreiagoresemoreis.\n",
      "cagolenedelenedelenedelenedelenedeleneiagolacodiampreiagolololoadeleneiadelenedelenedeleameteiamprgateseleametelenedeleneiameleametelenedeleneiagoleametesedeleadeleneiagoiameteseleameteselenedeleneiagoiametesemololacodiagoiagoiagoiameia.\n",
      "na.\n",
      "careiametelemoreiameteleameteleneia.\n",
      "careiagolenedeleneiloniagoloreiametelenedelenedelenedeleneiagolacodiameteiamoreiagoiagololacodiagoreiameteleametelenedelenedeleneilareiagomoreiagoiametelenedeleneiagoiametelemoreiagoiameteleampreia.\n"
     ]
    }
   ],
   "source": [
    "# sample from the model\n",
    "#g = torch.Generator().manual_seed(2183637 + 10)\n",
    "\n",
    "for _ in range(10):\n",
    "    out = []\n",
    "    context = [0] * BLOCK # initialize with all ...\n",
    "    while True:\n",
    "      emb = C[torch.tensor([context])] # (1,block_size,d)\n",
    "      h = torch.tanh(emb.view(1, -1) @ W1 + B1)\n",
    "      logits = h @ W2 + B2\n",
    "      probs = F.softmax(logits, dim=1)\n",
    "      ix = torch.multinomial(probs, num_samples=1, generator=g).item()\n",
    "      context = context[1:] + [ix]\n",
    "      out.append(ix)\n",
    "      if ix == 0:\n",
    "        break\n",
    "    \n",
    "    print(''.join(itos[i] for i in out))"
   ]
  },
  {
   "cell_type": "code",
   "execution_count": 382,
   "metadata": {},
   "outputs": [
    {
     "data": {
      "text/plain": [
       "2.934157371520996"
      ]
     },
     "execution_count": 382,
     "metadata": {},
     "output_type": "execute_result"
    }
   ],
   "source": [
    "emb = C[X_test]\n",
    "L = emb.view(-1,20) @ W1  + B1 \n",
    "logits = torch.tanh(L@W2 + B2)\n",
    "loss = F.cross_entropy(logits,Y_test)  \n",
    "loss.item()"
   ]
  }
 ],
 "metadata": {
  "kernelspec": {
   "display_name": "Python 3.8.10 64-bit",
   "language": "python",
   "name": "python3"
  },
  "language_info": {
   "codemirror_mode": {
    "name": "ipython",
    "version": 3
   },
   "file_extension": ".py",
   "mimetype": "text/x-python",
   "name": "python",
   "nbconvert_exporter": "python",
   "pygments_lexer": "ipython3",
   "version": "3.8.10"
  },
  "orig_nbformat": 4,
  "vscode": {
   "interpreter": {
    "hash": "916dbcbb3f70747c44a77c7bcd40155683ae19c65e1c03b4aa3499c5328201f1"
   }
  }
 },
 "nbformat": 4,
 "nbformat_minor": 2
}
