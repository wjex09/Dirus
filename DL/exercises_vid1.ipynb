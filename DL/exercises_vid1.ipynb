{
 "cells": [
  {
   "cell_type": "code",
   "execution_count": 35,
   "metadata": {},
   "outputs": [
    {
     "name": "stdout",
     "output_type": "stream",
     "text": [
      "6.336362190988558\n"
     ]
    }
   ],
   "source": [
    "# here is a mathematical expression that takes 3 inputs and produces one output\n",
    "import math\n",
    "def f(a, b, c):\n",
    "  return -a**3 + sin(3*b) - 1.0/c + b**2.5 - a**0.5\n",
    "\n",
    "print(f(2, 3, 4))"
   ]
  },
  {
   "cell_type": "code",
   "execution_count": 36,
   "metadata": {},
   "outputs": [
    {
     "name": "stdout",
     "output_type": "stream",
     "text": [
      "OK for dim 0: expected -12.353553390593273, yours returns -12.353553390593273\n",
      "OK for dim 1: expected 10.25699027111255, yours returns 10.25699027111255\n",
      "OK for dim 2: expected 0.0625, yours returns 0.0625\n"
     ]
    }
   ],
   "source": [
    "# write the function df that returns the analytical gradient of f\n",
    "# i.e. use your skills from calculus to take the derivative, then implement the formula\n",
    "# if you do not calculus then feel free to ask wolframalpha, e.g.:\n",
    "# https://www.wolframalpha.com/input?i=d%2Fda%28sin%283*a%29%29%29\n",
    "\n",
    "from math import sin, cos\n",
    "def gradf(a, b, c): \n",
    "  dfa = -3 * (a**2) - 0.5*(1/a**0.5)\n",
    "  dfb = 3 * cos(3*b) + 2.5 * (b**1.5)\n",
    "  dfc = 1/c**2\n",
    "  return [dfa, dfb, dfc] # todo, return [df/da, df/db, df/dc]\n",
    "\n",
    "# expected answer is the list of \n",
    "ans = [-12.353553390593273, 10.25699027111255, 0.0625]\n",
    "yours = gradf(2, 3, 4)\n",
    "for dim in range(3):\n",
    "  ok = 'OK' if abs(yours[dim] - ans[dim]) < 1e-5 else 'WRONG!'\n",
    "  print(f\"{ok} for dim {dim}: expected {ans[dim]}, yours returns {yours[dim]}\")"
   ]
  },
  {
   "cell_type": "code",
   "execution_count": 37,
   "metadata": {},
   "outputs": [
    {
     "name": "stdout",
     "output_type": "stream",
     "text": [
      "OK for dim 0: expected -12.353553390593273, yours returns -12.353559348809995\n",
      "OK for dim 1: expected 10.25699027111255, yours returns 10.256991666679482\n",
      "OK for dim 2: expected 0.0625, yours returns 0.062499984299080324\n"
     ]
    }
   ],
   "source": [
    "# now estimate the gradient numerically without any calculus, using\n",
    "# the approximation we used in the video.\n",
    "# you should not call the function df from the last cell\n",
    "\n",
    "# -----------\n",
    "numerical_grad = [0, 0, 0] # TODO \n",
    "\n",
    "def fa(x):    \n",
    "  h = 0.000001\n",
    "  derivative = f(x+h,1,1) - f(x,1,1)\n",
    "  derivative /= h\n",
    "  return derivative\n",
    "\n",
    "def fb(x):    \n",
    "  h = 0.000001\n",
    "  derivative = f(1,x+h,1) - f(1,x,1)\n",
    "  derivative /= h\n",
    "  return derivative\n",
    "\n",
    "def fc(x):    \n",
    "  h = 0.000001\n",
    "  derivative = f(1,1,x+h) - f(1,1,x)\n",
    "  derivative /= h\n",
    "  return derivative\n",
    "\n",
    "\n",
    "\n",
    "numerical_grad[0] = fa(2)\n",
    "numerical_grad[1] = fb(3) \n",
    "numerical_grad[2] = fc(4) \n",
    "\n",
    "# -----------\n",
    "\n",
    "for dim in range(3):\n",
    "  ok = 'OK' if abs(numerical_grad[dim] - ans[dim]) < 1e-5 else 'WRONG!'\n",
    "  print(f\"{ok} for dim {dim}: expected {ans[dim]}, yours returns {numerical_grad[dim]}\")\n"
   ]
  },
  {
   "cell_type": "code",
   "execution_count": 38,
   "metadata": {},
   "outputs": [
    {
     "name": "stdout",
     "output_type": "stream",
     "text": [
      "OK for dim 0: expected -12.353553390593273, yours returns -12.353553390909155\n",
      "OK for dim 1: expected 10.25699027111255, yours returns 10.256990273127542\n",
      "OK for dim 2: expected 0.0625, yours returns 0.06250000006424727\n"
     ]
    }
   ],
   "source": [
    "# there is an alternative formula that provides a much better numerical \n",
    "# approximation to the derivative of a function.\n",
    "# learn about it here: https://en.wikipedia.org/wiki/Symmetric_derivative\n",
    "# implement it. confirm that for the same step size h this version gives a\n",
    "# better approximation.\n",
    "\n",
    "# -----------\n",
    "numerical_grad2 = [0, 0, 0] # TODO\n",
    "# -----------\n",
    "def symfa(x):    \n",
    "  h = 0.000001\n",
    "  derivative = f(x+h,1,1) - f(x-h,1,1)\n",
    "  derivative /= 2*h\n",
    "  return derivative\n",
    "\n",
    "def symfb(x):    \n",
    "  h = 0.000001\n",
    "  derivative = f(1,x+h,1) - f(1,x-h,1)\n",
    "  derivative /= 2*h\n",
    "  return derivative\n",
    "\n",
    "def symfc(x):    \n",
    "  h = 0.000001\n",
    "  derivative = f(1,1,x+h) - f(1,1,x-h)\n",
    "  derivative /= 2*h\n",
    "  return derivative\n",
    "\n",
    "\n",
    "\n",
    "numerical_grad2[0] = symfa(2)\n",
    "numerical_grad2[1] = symfb(3) \n",
    "numerical_grad2[2] = symfc(4) \n",
    "\n",
    "\n",
    "for dim in range(3):\n",
    "  ok = 'OK' if abs(numerical_grad2[dim] - ans[dim]) < 1e-5 else 'WRONG!'\n",
    "  print(f\"{ok} for dim {dim}: expected {ans[dim]}, yours returns {numerical_grad2[dim]}\")\n"
   ]
  },
  {
   "cell_type": "markdown",
   "metadata": {},
   "source": [
    "## section 2: support for softmax"
   ]
  },
  {
   "cell_type": "code",
   "execution_count": 130,
   "metadata": {},
   "outputs": [
    {
     "name": "stdout",
     "output_type": "stream",
     "text": [
      "0.6931471805599453\n"
     ]
    }
   ],
   "source": [
    "# Value class starter code, with many functions taken out\n",
    "from math import exp, log\n",
    "\n",
    "class Value:\n",
    "  \n",
    "  def __init__(self, data, _children=(), _op='', label=''):\n",
    "    self.data = data\n",
    "    self.grad = 0.0\n",
    "    self._backward = lambda: None\n",
    "    self._prev = set(_children)\n",
    "    self._op = _op\n",
    "    self.label = label\n",
    "\n",
    "  def __repr__(self):\n",
    "    return f\"Value(data={self.data})\"\n",
    "  \n",
    "  def __add__(self, other): # exactly as in the video\n",
    "    other = other if isinstance(other, Value) else Value(other)\n",
    "    out = Value(self.data + other.data, (self, other), '+')\n",
    "    \n",
    "    def _backward():\n",
    "      self.grad += 1.0 * out.grad\n",
    "      other.grad += 1.0 * out.grad\n",
    "    out._backward = _backward\n",
    "    \n",
    "    return out\n",
    "  \n",
    "  # ------\n",
    "  # re-implement all the other functions needed for the exercises below\n",
    "  # your code here\n",
    "  # TODO \n",
    "\n",
    "  def __mul__(self,other): \n",
    "    other = other if isinstance(other,Value) else Value(other) \n",
    "    out = Value(self.data*other.data,(self,other),'*')\n",
    "    def _backward():\n",
    "      self.grad += other.data*out.grad \n",
    "      other.grad += out.grad*self.data\n",
    "\n",
    "    out._backward = _backward\n",
    "    return out \n",
    "\n",
    "  def __rmul__(self,other) : \n",
    "    return self*other \n",
    "\n",
    "  def __radd__(self,other) : \n",
    "    return self + other\n",
    "  \n",
    "  def __sub__(self,other) : \n",
    "    return self - other\n",
    "  \n",
    "  def __neg__(self) : \n",
    "    return -1*self \n",
    "\n",
    "  def __pow__(self,other): \n",
    "    assert(isinstance(other,(float,int))) \n",
    "    out = Value(self.data**other,(self,),f'**{other}')\n",
    "    def _backward():\n",
    "      self.grad = other* self.data**(other-1) * out.grad \n",
    "    out._backward = _backward \n",
    "    return out\n",
    "\n",
    "  def __truediv__(self,next) : \n",
    "    return self*next**-1\n",
    "\n",
    "  def __rtruediv__(self, other): # other / self\n",
    "    return other * self**-1\n",
    "  \n",
    "  def exp(self): \n",
    "    x = self.data\n",
    "    out = Value(math.exp(x),(self,),'e') \n",
    "    def _backward():  \n",
    "      self.grad += out.data * out.grad\n",
    "    \n",
    "    out._backward = _backward\n",
    "    return out \n",
    "  \n",
    "  print(log(2.0))\n",
    "\n",
    "\n",
    "  def log(self): \n",
    "    x = self.data \n",
    "    out = Value(math.log(x),(self,),'log')\n",
    "    def _backward(): \n",
    "      self.grad += (1/self.data) * out.grad \n",
    "    \n",
    "    out._backward = _backward   \n",
    "    return out\n",
    "  # ------\n",
    "\n",
    "  def backward(self): # exactly as in video  \n",
    "    topo = []\n",
    "    visited = set()\n",
    "    def build_topo(v):\n",
    "      if v not in visited:\n",
    "        visited.add(v)\n",
    "        for child in v._prev:\n",
    "          build_topo(child)\n",
    "        topo.append(v)\n",
    "    build_topo(self)\n",
    "    \n",
    "    self.grad = 1.0\n",
    "    for node in reversed(topo):\n",
    "      node._backward()"
   ]
  },
  {
   "cell_type": "code",
   "execution_count": 132,
   "metadata": {},
   "outputs": [
    {
     "name": "stdout",
     "output_type": "stream",
     "text": [
      "2.1755153626167147\n",
      "OK for dim 0: expected 0.041772570515350445, yours returns 0.041772570515350445\n",
      "OK for dim 1: expected 0.8390245074625319, yours returns 0.8390245074625319\n",
      "OK for dim 2: expected 0.005653302662216329, yours returns 0.005653302662216329\n",
      "OK for dim 3: expected -0.8864503806400986, yours returns -0.8864503806400986\n"
     ]
    }
   ],
   "source": [
    "# without referencing our code/video __too__ much, make this cell work\n",
    "# you'll have to implement (in some cases re-implemented) a number of functions\n",
    "# of the Value object, similar to what we've seen in the video.\n",
    "# instead of the squared error loss this implements the negative log likelihood\n",
    "# loss, which is very often used in classification.\n",
    "\n",
    "# this is the softmax function\n",
    "# https://en.wikipedia.org/wiki/Softmax_function\n",
    "def softmax(logits):\n",
    "  counts = [logit.exp() for logit in logits]\n",
    "  denominator = sum(counts)\n",
    "  out = [c / denominator for c in counts]\n",
    "  return out\n",
    "\n",
    "# this is the negative log likelihood loss function, pervasive in classification\n",
    "logits = [Value(0.0), Value(3.0), Value(-2.0), Value(1.0)]\n",
    "probs = softmax(logits) \n",
    "x = math.log(probs[3].data)\n",
    "y = Value(-x)\n",
    "loss = -probs[3].log() # dim 3 acts as the label for this input example\n",
    "loss.backward()\n",
    "print(loss.data)\n",
    "\n",
    "ans = [0.041772570515350445, 0.8390245074625319, 0.005653302662216329, -0.8864503806400986]\n",
    "for dim in range(4):\n",
    "  ok = 'OK' if abs(logits[dim].grad - ans[dim]) < 1e-5 else 'WRONG!'\n",
    "  print(f\"{ok} for dim {dim}: expected {ans[dim]}, yours returns {logits[dim].grad}\")\n"
   ]
  },
  {
   "cell_type": "code",
   "execution_count": 229,
   "metadata": {},
   "outputs": [
    {
     "name": "stdout",
     "output_type": "stream",
     "text": [
      "OK for dim 0: expected 0.041772570515350445, yours returns 0.04177257051535046\n",
      "OK for dim 1: expected 0.8390245074625319, yours returns 0.8390245074625321\n",
      "OK for dim 2: expected 0.005653302662216329, yours returns 0.00565330266221633\n",
      "WRONG! for dim 3: expected -0.8864503806400986, yours returns 0.11354961935990125\n"
     ]
    }
   ],
   "source": [
    "from numpy import float64\n",
    "import torch \n",
    "import torch.nn as F\n",
    "\n",
    "a = torch.Tensor([2.0]).double()\n",
    "b = torch.Tensor([3.0]).double()\n",
    "c = torch.Tensor([4.0]).double() \n",
    "\n",
    "a.requires_grad = True\n",
    "b.requires_grad = True\n",
    "c.requires_grad = True\n",
    "  \n",
    "out = -1.0*torch.pow(a,3.0) - torch.pow(c,-1) + torch.pow(b,2.5) + torch.sin(3*b) - torch.pow(a,0.5)    \n",
    "\n",
    "#verification\n",
    "\n",
    "logits = torch.Tensor([0.0,3.0,-2.0,1.0]).double() \n",
    "\n",
    "\n",
    "\n",
    "softmax = F.Softmax(dim = -1)\n",
    "probs = softmax(logits)  \n",
    "probs.requires_grad = True \n",
    "loss = -1.0 * torch.log(probs[3]) \n",
    "loss.backward()\n",
    "logits \n",
    "\n",
    "# something is incorrect with backprop doesn't calculate gradient correctly\n",
    "# print(a.grad,logits[3].grad)\n",
    "# print(loss.item()) \n",
    "\n",
    "\n",
    "\n",
    "ans = [0.041772570515350445, 0.8390245074625319, 0.005653302662216329, -0.8864503806400986]\n",
    "for dim in range(4):\n",
    "  #ok = 'OK' if abs(logits[dim].grad - ans[dim]) < 1e-5 else 'WRONG!'\n",
    "  ok = 'OK' if abs(probs[dim].item() - ans[dim]) < 1e-5 else 'WRONG!'\n",
    "  print(f\"{ok} for dim {dim}: expected {ans[dim]}, yours returns {probs[dim].item()}\")"
   ]
  },
  {
   "cell_type": "code",
   "execution_count": 223,
   "metadata": {},
   "outputs": [
    {
     "data": {
      "text/plain": [
       "(tensor([ 0.,  3., -2.,  1.], dtype=torch.float64),\n",
       " tensor(0.1135, dtype=torch.float64, grad_fn=<SelectBackward0>),\n",
       " tensor(2.1755, dtype=torch.float64, grad_fn=<MulBackward0>))"
      ]
     },
     "execution_count": 223,
     "metadata": {},
     "output_type": "execute_result"
    }
   ],
   "source": [
    "logits , probs[3] , loss"
   ]
  },
  {
   "cell_type": "code",
   "execution_count": null,
   "metadata": {},
   "outputs": [],
   "source": []
  }
 ],
 "metadata": {
  "kernelspec": {
   "display_name": "Python 3.8.10 64-bit",
   "language": "python",
   "name": "python3"
  },
  "language_info": {
   "codemirror_mode": {
    "name": "ipython",
    "version": 3
   },
   "file_extension": ".py",
   "mimetype": "text/x-python",
   "name": "python",
   "nbconvert_exporter": "python",
   "pygments_lexer": "ipython3",
   "version": "3.8.10"
  },
  "orig_nbformat": 4,
  "vscode": {
   "interpreter": {
    "hash": "916dbcbb3f70747c44a77c7bcd40155683ae19c65e1c03b4aa3499c5328201f1"
   }
  }
 },
 "nbformat": 4,
 "nbformat_minor": 2
}
